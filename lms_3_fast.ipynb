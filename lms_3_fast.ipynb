{
 "cells": [
  {
   "cell_type": "markdown",
   "id": "1f6ef5c7-5c03-405c-8920-84d4199d835e",
   "metadata": {},
   "source": [
    "# -*- coding: utf-8 -*-\n",
    "\n",
    "Created on Tue Apr  5 15:53:11 2016\n",
    "Last change: August 10, 2018\n",
    "\n",
    "This program runs the LMS algorithm in Python\n",
    "Input signal: AR(1) process with a white Gaussian driving noise\n",
    "Structure: System identification with an input delay line\n",
    "Unknown system: Nonstationary using the random walk model\n",
    "\n",
    "@author: bermudez"
   ]
  },
  {
   "cell_type": "code",
   "execution_count": 1,
   "id": "20fa0909-3140-4591-8e06-eeeee6b94aa8",
   "metadata": {},
   "outputs": [],
   "source": [
    "# Importing the modules necessary for scientific calculations\n",
    "import numpy as np              # module for working with arrays\n",
    "import scipy.linalg as linalg   # modulee for linear algebra\n",
    "import matplotlib.pyplot as plt # module for plotting\n",
    "from numba import jit, njit, cuda\n",
    "#import myfunctions as mf        # module for my own functions"
   ]
  },
  {
   "cell_type": "code",
   "execution_count": 2,
   "id": "0b800182-27f5-458a-95b7-e2ca210c7c40",
   "metadata": {},
   "outputs": [],
   "source": [
    "from datetime import datetime\n",
    "start_time = datetime.now()\n",
    "# do your work here"
   ]
  },
  {
   "cell_type": "markdown",
   "id": "3a79b606-1900-43c1-b801-6bdcca52b646",
   "metadata": {},
   "source": [
    "### Functions to evaluate theoretical models"
   ]
  },
  {
   "cell_type": "code",
   "execution_count": 3,
   "id": "9f624df0-9325-47b7-8818-b84262af2014",
   "metadata": {},
   "outputs": [],
   "source": [
    "# Classical LMS model for Gaussian inputs (Eq. 10.4.28, Manolakis' book)\n",
    "@njit\n",
    "def classical_model(K0, R, varz, varq, mu, N, iterations):\n",
    "    msdt = np.zeros(iterations)\n",
    "    emset = np.zeros(iterations)\n",
    "    K = K0\n",
    "    msdt[0] = np.trace(K)\n",
    "    emset[0] = np.trace(R @ K)\n",
    "    for m in np.arange(1,iterations):\n",
    "        K = K - mu * (R @ K + K @ R) \\\n",
    "            + mu**2 * (np.trace(R @ K) * R + 2 * R @ K @ R)\\\n",
    "            + mu**2 * varz * R + varq * np.eye(N)\n",
    "        msdt[m] = np.trace(K)\n",
    "        emset[m] = np.trace(R @ K)\n",
    "        \n",
    "    return msdt, emset  "
   ]
  },
  {
   "cell_type": "code",
   "execution_count": 4,
   "id": "656e1e99-690a-4e97-b458-3195b3855a0d",
   "metadata": {},
   "outputs": [],
   "source": [
    "# Monte Carlo simulation\n",
    "@njit\n",
    "def Monte_Carlo(runs, SystemResponse, alpha, varx, varz, varq, N, iterations):\n",
    "    mse = np.zeros(iterations)            # Mean square error\n",
    "    emse = np.zeros(iterations)           # Excess mean square error\n",
    "    msd = np.zeros(iterations)            # Mean square deviation\n",
    "    for r in np.arange(runs):                     # loop for realizations\n",
    "        SystemResponsen = SystemResponse          # Updates the channel response\n",
    "        W = np.zeros(N)                           # initializes W(0)\n",
    "\n",
    "        # Input driving noise generation\n",
    "        X0 = np.sqrt((1-alpha**2)*varx)*np.random.normal(0,1,size=iterations+N)\n",
    "        X1 = np.zeros(iterations+N)            # initializes vector of input samples\n",
    "        X1[0] = X0[0]\n",
    "        for k in np.arange(1,iterations+N):    # AR(1) model\n",
    "            X1[k] = alpha*X1[k-1] + X0[k]\n",
    "\n",
    "        # Generation of the measurement noise sequence\n",
    "        noise = np.sqrt(varz)*np.random.randn(iterations+N)\n",
    "        \n",
    "        # Adaptive algorithm\n",
    "        for n in np.arange(iterations):\n",
    "            X = X1[n:n+N]                         # generates input vector\n",
    "            X = X[::-1]                           # flips the vector around\n",
    "            z = noise[n]                          # generates additive noise sample\n",
    "            d = X @ SystemResponsen + z           # evaluates desired signal\n",
    "            y = X @ W                             # evaluates adaptive filter output\n",
    "            e = d - y                             # evaluates error signal\n",
    "            mse[n] = mse[n] + e**2                # accumulates e²(n)\n",
    "            emse[n] = emse[n] + (e-z)**2          # accumulates (e(n)-z(n))²\n",
    "            V = W - SystemResponsen               # evaluates weight error vector\n",
    "            msd[n] = msd[n] + V @ V               # evaluates MSD(n)\n",
    "            # Updating the adaptive weights\n",
    "            W = W + mu * e * X\n",
    "            # Update of unknown system response\n",
    "            SystemResponsen = SystemResponsen + np.sqrt(varq) * np.random.randn(N)\n",
    "        \n",
    "    return mse, emse, msd  "
   ]
  },
  {
   "cell_type": "code",
   "execution_count": 5,
   "id": "93d58ebb-9c9a-466b-aa44-ffb968ca5422",
   "metadata": {},
   "outputs": [],
   "source": [
    "## Analytical model: Haykin 2002, Eqs. (5.82) and (5.92).\n",
    "#\n",
    "#E = linalg.eig(R)             # evaluates eigenvalues and eigenvectors of R\n",
    "#Lambdas = E[0].real                 # array of eigenvalues of R\n",
    "#Q = E[1]                            # matrix of eigenvectors\n",
    "#msq = (Q.T.dot(SystemResponse))**2  # rotated optimum solution\n",
    "#Jex = np.zeros(iterations)          # initialize Jex vector\n",
    "#Jex[0] = Lambdas.dot(msq)           # initial EMSE\n",
    "#B = (mu*varz*np.ones(N))/(2*np.ones(N) - mu*Lambdas)\n",
    "#C = msq - B\n",
    "#for n in np.arange(1,iterations):\n",
    "#    msq = B + ((np.ones(N) - mu*Lambdas)**(2*n))*C\n",
    "#    Jex[n] = Lambdas.dot(msq)"
   ]
  },
  {
   "cell_type": "markdown",
   "id": "9f828d28-5e8f-42ff-8c63-649f8973d851",
   "metadata": {},
   "source": [
    "### Statistical simulation"
   ]
  },
  {
   "cell_type": "code",
   "execution_count": 6,
   "id": "5b392c58-4720-43d9-9400-6272d74d27c1",
   "metadata": {},
   "outputs": [],
   "source": [
    "# Simulation parameters\n",
    "N = 128                      # number of adaptive coefficients\n",
    "iterations = 50000          # number of iterations\n",
    "runs = 100                    # number of Monte Carlo realizations\n",
    "mu = 5e-4                  # step-size\n",
    "varx = 1.                    # variance of the input signal\n",
    "varz = 1e-6                  # variance of the additive measurement noise\n",
    "alpha = 0.4                  # correlation parameter for the AR(1) input model\n",
    "               \n",
    "\n",
    "# Markov channel fluctuations (choose one)\n",
    "eta = 0.                         # degree of nonsationarity due to channel changes\n",
    "varq = (varz*(eta**2))/(N*varx)   # Markov  Channel fluctuations"
   ]
  },
  {
   "cell_type": "markdown",
   "id": "ad628293-7e62-43d4-bf26-0269b8ee1036",
   "metadata": {},
   "source": [
    "### Unknown system impulse response"
   ]
  },
  {
   "cell_type": "code",
   "execution_count": 7,
   "id": "ca6b5546-fd31-42d7-a70d-fd4cfe0a37ec",
   "metadata": {},
   "outputs": [],
   "source": [
    "#SystemResponse = mf.raiscos(N,0.,5,0.8)\n",
    "SystemResponse = np.array(np.random.randn(N))\n",
    "\n",
    "# Normalization of the system response\n",
    "SystemResponse = SystemResponse/np.sqrt(SystemResponse.dot(SystemResponse))\n",
    "\n",
    "#np.save('data/response.npy',SystemResponse) # do it once for all simulations\n",
    "#SystemResponse = np.load('data/responseraiscos.npy') # use this once the response is saved\n",
    "#SystemResponse = np.load('data/responsedecay.npy') # use this once the response is saved"
   ]
  },
  {
   "cell_type": "markdown",
   "id": "4ce7df85-d7bc-44cc-9522-36e6c92923f4",
   "metadata": {},
   "source": [
    "### To plot the system response using stem"
   ]
  },
  {
   "cell_type": "code",
   "execution_count": 8,
   "id": "f9e38976-c4f3-4fd1-8249-b1c7ed33d02d",
   "metadata": {},
   "outputs": [
    {
     "data": {
      "image/png": "[encoded data removed]",
      "text/plain": [
       "<Figure size 432x288 with 1 Axes>"
      ]
     },
     "metadata": {
      "needs_background": "light"
     },
     "output_type": "display_data"
    }
   ],
   "source": [
    "plt.figure()\n",
    "t = np.arange(N)\n",
    "markerline, stemlines, baseline = plt.stem(t,SystemResponse)\n",
    "plt.setp(markerline, 'markerfacecolor', 'b')\n",
    "plt.setp(baseline, 'color', 'k', 'linewidth', 2),plt.grid()\n",
    "plt.ylabel('Amplitude of $H(0)$', fontsize=14)\n",
    "plt.xlabel('iterations', fontsize=14)\n",
    "plt.xticks(fontsize=14)\n",
    "plt.yticks(fontsize=14)\n",
    "plt.show()"
   ]
  },
  {
   "cell_type": "markdown",
   "id": "91cff4de-e10d-47ee-9140-0f19791fb605",
   "metadata": {},
   "source": [
    "### Initialization of variables"
   ]
  },
  {
   "cell_type": "code",
   "execution_count": 9,
   "id": "02f68684-8d25-466a-a979-7993ed2e9e24",
   "metadata": {},
   "outputs": [
    {
     "name": "stdout",
     "output_type": "stream",
     "text": [
      "eigenvalue spread:  5.4402676581043625\n"
     ]
    }
   ],
   "source": [
    "#X0 = np.sqrt((1-alpha**2)*varx)*np.random.normal(0,1,size=iterations+N-1)\n",
    "# Plotting the histogram of X0 if verification is necessary\n",
    "#plt.hist(X0, bins=30, histtype='bar')\n",
    "\n",
    "# Theoretical input autocorrelation matrix \n",
    "\n",
    "liner = np.array(varx*(alpha**(np.arange(N))))\n",
    "# Input autocorrelation matrix\n",
    "R = linalg.toeplitz(liner)\n",
    "\n",
    "# Calculation of eigenvectors and eingenvalues\n",
    "#   Each element of la is one eigenvalue (ordered by increasing magnitude)\n",
    "#   Each column of S is an eigenvector in the same order\n",
    "la, S = linalg.eigh(R)\n",
    "#print(\"eigenvalues:\",np.abs(la), '\\n')\n",
    "#print(\"eigenvectors: \", \"\\n\", S, '\\n')\n",
    "spread = np.abs(np.max(la))/np.abs(np.min(la))\n",
    "print('eigenvalue spread: ', spread)\n",
    "\n",
    "# Input eigenvalue matrix\n",
    "Lambda0 = np.diag(np.abs(la))      \n",
    "#print(\"Lambda0 = \", '\\n', Lambda0, '\\n')"
   ]
  },
  {
   "cell_type": "markdown",
   "id": "887a8e0a-3249-4691-9cb6-3b11778f3d3b",
   "metadata": {},
   "source": [
    "### Monte Carlo (MC) Simulation"
   ]
  },
  {
   "cell_type": "code",
   "execution_count": 10,
   "id": "88a14b2f-9e2e-4691-aa0f-6f4d28859659",
   "metadata": {},
   "outputs": [
    {
     "name": "stderr",
     "output_type": "stream",
     "text": [
      "/tmp/ipykernel_325517/950710009.py:26: NumbaPerformanceWarning: \u001b[1m\u001b[1m'@' is faster on contiguous arrays, called on (array(float64, 1d, A), array(float64, 1d, C))\u001b[0m\u001b[0m\n",
      "  d = X @ SystemResponsen + z           # evaluates desired signal\n",
      "/tmp/ipykernel_325517/950710009.py:27: NumbaPerformanceWarning: \u001b[1m\u001b[1m'@' is faster on contiguous arrays, called on (array(float64, 1d, A), array(float64, 1d, C))\u001b[0m\u001b[0m\n",
      "  y = X @ W                             # evaluates adaptive filter output\n",
      "/home/bermudez/anaconda3/lib/python3.9/site-packages/numba/core/typing/npydecl.py:965: NumbaPerformanceWarning: \u001b[1m'@' is faster on contiguous arrays, called on (array(float64, 1d, A), array(float64, 1d, C))\u001b[0m\n",
      "  warnings.warn(NumbaPerformanceWarning(msg))\n",
      "/home/bermudez/anaconda3/lib/python3.9/site-packages/numba/core/typing/npydecl.py:965: NumbaPerformanceWarning: \u001b[1m'@' is faster on contiguous arrays, called on (array(float64, 1d, A), array(float64, 1d, C))\u001b[0m\n",
      "  warnings.warn(NumbaPerformanceWarning(msg))\n"
     ]
    }
   ],
   "source": [
    "# Vector initializations\n",
    "mse = np.zeros(iterations)            # Mean square error\n",
    "emse = np.zeros(iterations)           # Excess mean square error\n",
    "msd = np.zeros(iterations)            # Mean square deviation\n",
    "msdtheo = np.zeros(iterations)        # Theoretical MSD(n)\n",
    "emsetheo = np.zeros(iterations)        # Theoretical EMSE(n)\n",
    "K0 = np.outer(SystemResponse,SystemResponse)  # Matrix K(0)\n",
    "\n",
    "# Call function classical_model\n",
    "\n",
    "msdtheo, emsetheo = classical_model(K0, R, varz, varq, mu, N, iterations)\n",
    "msdtheo = 10 * np.log10(msdtheo)\n",
    "emsetheo = 10 * np.log10(emsetheo)\n",
    "\n",
    "# Call function Monte Carlo realizations\n",
    "\n",
    "mse, emse, msd = Monte_Carlo(runs, SystemResponse, alpha, varx, varz, varq, N, iterations)"
   ]
  },
  {
   "cell_type": "markdown",
   "id": "7552e582-f940-4555-b7d4-3220acea5480",
   "metadata": {},
   "source": [
    "### Averaging"
   ]
  },
  {
   "cell_type": "code",
   "execution_count": 11,
   "id": "d6946ba6-68f1-4a62-905f-5b12edb735de",
   "metadata": {},
   "outputs": [],
   "source": [
    "mse = mse/runs                                # evaluates MSE\n",
    "emse = emse/runs                              # evaluates EMSE\n",
    "msd = msd/runs                                # evaluates MSD\n",
    "msedb = 10 * np.log10(mse)                    # MSE in dB\n",
    "emsedb = 10 * np.log10(emse)                  # EMSE in dB\n",
    "msddb = 10 * np.log10(msd)                    # MSD in dB"
   ]
  },
  {
   "cell_type": "markdown",
   "id": "5cf3917f-8990-4dba-aac4-21de439d7e61",
   "metadata": {},
   "source": [
    "### Plotting the results"
   ]
  },
  {
   "cell_type": "code",
   "execution_count": 12,
   "id": "b98d5b84-a4c6-4bda-97a8-bcd40a71cba4",
   "metadata": {},
   "outputs": [
    {
     "data": {
      "image/png": "[encoded data removed]",
      "text/plain": [
       "<Figure size 432x288 with 1 Axes>"
      ]
     },
     "metadata": {
      "needs_background": "light"
     },
     "output_type": "display_data"
    },
    {
     "data": {
      "image/png": "[encoded data removed]",
      "text/plain": [
       "<Figure size 432x288 with 1 Axes>"
      ]
     },
     "metadata": {
      "needs_background": "light"
     },
     "output_type": "display_data"
    },
    {
     "name": "stdout",
     "output_type": "stream",
     "text": [
      "Duration: 0:00:46.997203\n"
     ]
    }
   ],
   "source": [
    "plt.figure()\n",
    "t = np.arange(iterations)\n",
    "plt.plot(t,emsedb,label='simulations'), plt.grid()    \n",
    "plt.plot(t,emsetheo,label='theory')  \n",
    "#plt.plot(t,10*np.log10(Jex),label='theory model'),plt.grid()\n",
    "plt.legend()                           # adds legend with labels defined above\n",
    "plt.title('Excess Mean Squared Error', fontsize=18)\n",
    "plt.xlabel('iterations', fontsize=14)\n",
    "plt.ylabel('EMSE (dB)', fontsize=14)\n",
    "plt.xticks(fontsize=14)\n",
    "plt.yticks(fontsize=14)\n",
    "ax = plt.gca()                    # grabs current axes and names them ax\n",
    "# Setting axes properties\n",
    "ax.ticklabel_format(style='sci', axis='x', scilimits=(0,0)) # scientific number style\n",
    "ax.xaxis.offsetText.set_fontsize(14)                        # offset text font size\n",
    "#plt.savefig('testfig.pdf',bbox_inches='tight')\n",
    "#plt.show()\n",
    "\n",
    "plt.figure()\n",
    "plt.plot(t,msddb,label='simulations'), plt.grid()    \n",
    "plt.plot(t,msdtheo,label='theory')  \n",
    "#plt.plot(t,10*np.log10(Jex),label='theory model'),plt.grid()\n",
    "plt.legend()                           # adds legend with labels defined above\n",
    "plt.title('Mean Square Deviation', fontsize=18)\n",
    "plt.xlabel('iterations', fontsize=14)\n",
    "plt.ylabel('MSD (dB)', fontsize=14)\n",
    "plt.xticks(fontsize=14)\n",
    "plt.yticks(fontsize=14)\n",
    "ax = plt.gca()                    # grabs current axes and names them ax\n",
    "# Setting axes properties\n",
    "ax.ticklabel_format(style='sci', axis='x', scilimits=(0,0)) # scientific number style\n",
    "ax.xaxis.offsetText.set_fontsize(14)                        # offset text font size\n",
    "#plt.savefig('testfig.pdf',bbox_inches='tight')\n",
    "plt.show()\n",
    "\n",
    "end_time = datetime.now()\n",
    "print('Duration: {}'.format(end_time - start_time))"
   ]
  },
  {
   "cell_type": "code",
   "execution_count": null,
   "id": "b66e9e85-282c-48fc-8752-77f6d848b5cd",
   "metadata": {},
   "outputs": [],
   "source": []
  }
 ],
 "metadata": {
  "kernelspec": {
   "display_name": "Python 3 (ipykernel)",
   "language": "python",
   "name": "python3"
  },
  "language_info": {
   "codemirror_mode": {
    "name": "ipython",
    "version": 3
   },
   "file_extension": ".py",
   "mimetype": "text/x-python",
   "name": "python",
   "nbconvert_exporter": "python",
   "pygments_lexer": "ipython3",
   "version": "3.9.12"
  }
 },
 "nbformat": 4,
 "nbformat_minor": 5
}
