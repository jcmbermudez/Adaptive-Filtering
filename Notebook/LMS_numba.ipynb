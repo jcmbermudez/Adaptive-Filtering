{
 "cells": [
  {
   "cell_type": "code",
   "execution_count": 1,
   "id": "9ee7464e-b629-40ad-a364-cd419c68b667",
   "metadata": {},
   "outputs": [
    {
     "data": {
      "text/plain": [
       "'\\nCreated on Sun Nov. 27 09:46 2022\\nLast change: December 4, 2022\\n\\nThis program runs the LMS algorithm in Python\\nInput signal: AR(1) process with a white Gaussian driving noise\\nStructure: System identification with an input delay line\\nUnknown system: Nonstationary using the random walk model\\n\\nThe code has been derived from lms_3.py\\n\\nThe code has been optimized using numba to accelerate processing \\nThe Monte Carlo simulations use parallel processing\\n\\nUsing numba in the GPU seems to be too complex for the possible gain.\\n\\n@author: bermudez\\n'"
      ]
     },
     "execution_count": 1,
     "metadata": {},
     "output_type": "execute_result"
    }
   ],
   "source": [
    "\"\"\"\n",
    "Created on Sun Nov. 27 09:46 2022\n",
    "Last change: December 4, 2022\n",
    "\n",
    "This program runs the LMS algorithm in Python\n",
    "Input signal: AR(1) process with a white Gaussian driving noise\n",
    "Structure: System identification with an input delay line\n",
    "Unknown system: Nonstationary using the random walk model\n",
    "\n",
    "The code has been derived from lms_3.py\n",
    "\n",
    "The code has been optimized using numba to accelerate processing \n",
    "The Monte Carlo simulations use parallel processing\n",
    "\n",
    "Using numba in the GPU seems to be too complex for the possible gain.\n",
    "\n",
    "@author: bermudez\n",
    "\"\"\"\n"
   ]
  },
  {
   "cell_type": "markdown",
   "id": "aa006506-ffbb-4d3d-a091-31d804171ae8",
   "metadata": {},
   "source": [
    "### Importing the modules necessary for scientific calculations"
   ]
  },
  {
   "cell_type": "code",
   "execution_count": 2,
   "id": "8ac0bae7-7206-4a6d-93c5-343810ef5919",
   "metadata": {},
   "outputs": [],
   "source": [
    "import numpy as np              # module for working with arrays\n",
    "import scipy.linalg as linalg   # modulee for linear algebra\n",
    "import matplotlib.pyplot as plt # module for plotting\n",
    "import numba as nb              # module numba\n",
    "import time\n",
    "#import myfunctions as mf        # module for my own functions"
   ]
  },
  {
   "cell_type": "code",
   "execution_count": 3,
   "id": "4da1b126-6fab-42a2-a4f1-a72ca33f250f",
   "metadata": {},
   "outputs": [],
   "source": [
    "nb.config.NUMBA_NUM_THREADS=64"
   ]
  },
  {
   "cell_type": "markdown",
   "id": "34551cd8-5b2c-41df-a173-78a6c4c5aaa5",
   "metadata": {},
   "source": [
    "### Timing execution"
   ]
  },
  {
   "cell_type": "code",
   "execution_count": 4,
   "id": "b7317ba8-585b-4a12-ad5e-cf32f8129c7b",
   "metadata": {},
   "outputs": [],
   "source": [
    "t0 = time.time()"
   ]
  },
  {
   "cell_type": "markdown",
   "id": "fc261d00-cd08-4a95-a0d5-5f70f416d660",
   "metadata": {},
   "source": [
    "### Theoretical model evaluation"
   ]
  },
  {
   "cell_type": "code",
   "execution_count": 5,
   "id": "2fbe77f1-ba9e-498e-929e-a4a61206663d",
   "metadata": {},
   "outputs": [],
   "source": [
    "# Classical LMS model for Gaussian inputs (Eq. 10.4.28, Manolakis' book)\n",
    "\n",
    "@nb.njit(fastmath=True)\n",
    "def classical_model(K0):\n",
    "    global R, varz, varq, mu, N, iterations\n",
    "    msdt = np.zeros(iterations)\n",
    "    emset = np.zeros(iterations)\n",
    "    K = K0\n",
    "    msdt[0] = np.trace(K)\n",
    "    emset[0] = np.trace(R @ K)\n",
    "    for m in np.arange(1,iterations):\n",
    "        K = K - mu * (R @ K + K @ R) \\\n",
    "            + mu**2 * (np.trace(R @ K) * R + 2 * R @ K @ R)\\\n",
    "            + mu**2 * varz * R + varq * np.eye(N)\n",
    "        msdt[m] = np.trace(K)\n",
    "        emset[m] = np.trace(R @ K)\n",
    "        \n",
    "    return msdt, emset    "
   ]
  },
  {
   "cell_type": "code",
   "execution_count": 6,
   "id": "b79fca7a-3d1b-4897-a9fd-e50c414914dd",
   "metadata": {},
   "outputs": [],
   "source": [
    "#classical_model.inspect_types()"
   ]
  },
  {
   "cell_type": "code",
   "execution_count": 7,
   "id": "ad46805d-9bfa-4b6b-ab6c-e4311bbc653e",
   "metadata": {},
   "outputs": [],
   "source": [
    "# Monte Carlo simulation\n",
    "\n",
    "@nb.njit(fastmath=True, nogil=True, parallel=True)\n",
    "def Monte_Carlo(msenb, emsenb, msdnb):\n",
    "    global runs, SystemResponse, alpha, varx, varz, varq, N, iterations\n",
    "\n",
    "    for r in nb.prange(runs):               # loop for realizations\n",
    "        SystemResponsen = SystemResponse.copy()          # Updates the channel response\n",
    "        W = np.zeros(N)                           # initializes W(0)\n",
    "\n",
    "        # Input driving noise generation\n",
    "        X0 = np.sqrt((1-alpha**2)*varx)*np.random.normal(0,1,size=iterations+N+1)\n",
    "        X1 = np.zeros(iterations+N+1)            # initializes vector of input samples\n",
    "        X1[0] = X0[0]\n",
    "        for k in np.arange(1,iterations+N+1):    # AR(1) model\n",
    "            X1[k] = alpha*X1[k-1] + X0[k]\n",
    "\n",
    "        # Generation of the measurement noise sequence\n",
    "        noise = np.sqrt(varz)*np.random.randn(iterations+N)\n",
    "        \n",
    "        # Generation of initial input vector\n",
    "        X = X1[0:N].copy()                         # generates input vector\n",
    "        X = X[::-1]                           # flips the vector around\n",
    "        X = np.ascontiguousarray(X)           # to transform X in a contiguous array for numba\n",
    "        \n",
    "        # Adaptive algorithm\n",
    "        for n in np.arange(iterations):\n",
    "            z = noise[n]                          # generates additive noise sample\n",
    "            d = np.dot(X,SystemResponsen) + z           # evaluates desired signal\n",
    "            #d = nb.tensordot(X,SystemResponsen, axes=1).item()\n",
    "            y = np.dot(X,W)                             # evaluates adaptive filter output\n",
    "            e = d - y                             # evaluates error signal\n",
    "            msenb[n] = msenb[n] + e**2                # accumulates e²(n)\n",
    "            emsenb[n] = emsenb[n] + (e-z)**2          # accumulates (e(n)-z(n))²\n",
    "            V = W - SystemResponsen               # evaluates weight error vector\n",
    "            msdnb[n] = msdnb[n] + np.dot(V,V)               # evaluates MSD(n)\n",
    "            \n",
    "            # Updating the adaptive weights\n",
    "            W = W + mu * e * X\n",
    "            \n",
    "            # Update of unknown system response\n",
    "            SystemResponsen = SystemResponsen + np.sqrt(varq) * np.random.randn(N)\n",
    "            \n",
    "            # Update input vector\n",
    "            X = np.concatenate((np.array([X1[n+N]]), X[:-1]))\n",
    "        \n",
    "    return msenb, emsenb, msdnb  "
   ]
  },
  {
   "cell_type": "code",
   "execution_count": 8,
   "id": "fa8018f4-4280-4286-a91c-be3d1fddc806",
   "metadata": {},
   "outputs": [],
   "source": [
    "#Monte_Carlo.inspect_types()"
   ]
  },
  {
   "cell_type": "markdown",
   "id": "b3a1b8d6-6759-4123-9906-e6e1944f70b9",
   "metadata": {},
   "source": [
    "### Statistical simulation"
   ]
  },
  {
   "cell_type": "code",
   "execution_count": 9,
   "id": "50b8d56c-c3f0-4164-91f8-43bb7b7bb7f1",
   "metadata": {},
   "outputs": [],
   "source": [
    "# Simulation parameters\n",
    "N = 128                      # number of adaptive coefficients\n",
    "iterations = 50000          # number of iterations\n",
    "runs = 100                    # number of Monte Carlo realizations\n",
    "mu = 5e-4                  # step-size\n",
    "varx = 1.0                    # variance of the input signal\n",
    "varz = 1e-6                  # variance of the additive measurement noise\n",
    "alpha = 0.4                  # correlation parameter for the AR(1) input model\n",
    "               \n",
    "\n",
    "# Markov channel fluctuations (choose one)\n",
    "eta = 0.                         # degree of nonsationarity due to channel changes\n",
    "varq = (varz*(eta**2))/(N*varx)   # Markov  Channel fluctuations"
   ]
  },
  {
   "cell_type": "markdown",
   "id": "4f75afbf-9fd2-42a8-8229-92016138e484",
   "metadata": {},
   "source": [
    "### Unknown system impulse response"
   ]
  },
  {
   "cell_type": "code",
   "execution_count": 10,
   "id": "ef8fc9db-9bc9-49a2-8cfb-37e97ed504c5",
   "metadata": {},
   "outputs": [],
   "source": [
    "#SystemResponse = mf.raiscos(N,0.,5,0.8)\n",
    "SystemResponse = np.array(np.random.randn(N))\n",
    "\n",
    "# Normalization of the system response\n",
    "SystemResponse = SystemResponse/np.sqrt(SystemResponse.dot(SystemResponse))\n",
    "\n",
    "#np.save('data/response.npy',SystemResponse) # do it once for all simulations\n",
    "#SystemResponse = np.load('data/responseraiscos.npy') # use this once the response is saved\n",
    "#SystemResponse = np.load('data/responsedecay.npy') # use this once the response is saved"
   ]
  },
  {
   "cell_type": "markdown",
   "id": "2e32b53b-ed7f-4f2b-8bd4-49803920939d",
   "metadata": {},
   "source": [
    "### To plot the system response using stem"
   ]
  },
  {
   "cell_type": "code",
   "execution_count": 11,
   "id": "9d1b0c74-e562-4374-ade7-c4e341969e0f",
   "metadata": {},
   "outputs": [
    {
     "data": {
      "image/png": "[encoded data removed]",
      "text/plain": [
       "<Figure size 432x288 with 1 Axes>"
      ]
     },
     "metadata": {
      "needs_background": "light"
     },
     "output_type": "display_data"
    }
   ],
   "source": [
    "plt.figure()\n",
    "t = np.arange(N)\n",
    "markerline, stemlines, baseline = plt.stem(t,SystemResponse)\n",
    "plt.setp(markerline, 'markerfacecolor', 'b')\n",
    "plt.setp(baseline, 'color', 'k', 'linewidth', 2),plt.grid()\n",
    "plt.ylabel('Amplitude of $H(0)$', fontsize=14)\n",
    "plt.xlabel('iterations', fontsize=14)\n",
    "plt.xticks(fontsize=14)\n",
    "plt.yticks(fontsize=14)\n",
    "plt.show()"
   ]
  },
  {
   "cell_type": "markdown",
   "id": "4ac2d056-6559-4643-b4c1-95fbd02c697d",
   "metadata": {
    "tags": []
   },
   "source": [
    "### Initialization of variables"
   ]
  },
  {
   "cell_type": "code",
   "execution_count": 12,
   "id": "9f4fe5f2-5d63-4707-8524-6a06f130ebd9",
   "metadata": {},
   "outputs": [
    {
     "name": "stdout",
     "output_type": "stream",
     "text": [
      "eigenvalue spread:  5.4402676581043625\n"
     ]
    }
   ],
   "source": [
    "#X0 = np.sqrt((1-alpha**2)*varx)*np.random.normal(0,1,size=iterations+N-1)\n",
    "# Plotting the histogram of X0 if verification is necessary\n",
    "#plt.hist(X0, bins=30, histtype='bar')\n",
    "\n",
    "# Theoretical input autocorrelation matrix \n",
    "\n",
    "liner = np.array(varx*(alpha**(np.arange(N))))\n",
    "# Input autocorrelation matrix\n",
    "R = linalg.toeplitz(liner)\n",
    "\n",
    "# Calculation of eigenvectors and eingenvalues\n",
    "#   Each element of la is one eigenvalue (ordered by increasing magnitude)\n",
    "#   Each column of S is an eigenvector in the same order\n",
    "la, S = linalg.eigh(R)\n",
    "#print(\"eigenvalues:\",np.abs(la), '\\n')\n",
    "#print(\"eigenvectors: \", \"\\n\", S, '\\n')\n",
    "spread = np.abs(np.max(la))/np.abs(np.min(la))\n",
    "print('eigenvalue spread: ', spread)\n",
    "\n",
    "# Input eigenvalue matrix\n",
    "Lambda0 = np.diag(np.abs(la))      \n",
    "#print(\"Lambda0 = \", '\\n', Lambda0, '\\n')"
   ]
  },
  {
   "cell_type": "markdown",
   "id": "f360754e-e1de-40d4-a601-be295b82fd5d",
   "metadata": {},
   "source": [
    "### Monte Carlo (MC) Simulation"
   ]
  },
  {
   "cell_type": "code",
   "execution_count": 13,
   "id": "eef43120-a805-4ca4-b328-85f80deb4f40",
   "metadata": {},
   "outputs": [],
   "source": [
    "# Vector initializations\n",
    "mse = np.zeros(iterations)            # Mean square error\n",
    "emse = np.zeros(iterations)           # Excess mean square error\n",
    "msd = np.zeros(iterations)            # Mean square deviation\n",
    "msdtheo = np.zeros(iterations)        # Theoretical MSD(n)\n",
    "emsetheo = np.zeros(iterations)        # Theoretical EMSE(n)\n",
    "K0 = np.outer(SystemResponse,SystemResponse)  # Matrix K(0)\n",
    "\n",
    "# Call function classical_model\n",
    "\n",
    "msdtheo, emsetheo = classical_model(K0)\n",
    "msdtheo = 10 * np.log10(msdtheo)\n",
    "emsetheo = 10 * np.log10(emsetheo)\n",
    "\n",
    "# Call function Monte Carlo realizations\n",
    "\n",
    "#mse, emse, msd = Monte_Carlo(runs, SystemResponse, alpha, varx, varz, varq, N, iterations)\n",
    "mse, emse, msd = Monte_Carlo(mse, emse, msd)"
   ]
  },
  {
   "cell_type": "markdown",
   "id": "c399113f-c4b1-4226-8e74-0c45fac51923",
   "metadata": {},
   "source": [
    "### Averaging"
   ]
  },
  {
   "cell_type": "code",
   "execution_count": 14,
   "id": "3e5e9428-6472-4682-b4a6-f8fffe566082",
   "metadata": {},
   "outputs": [],
   "source": [
    "mse = mse/runs                                # evaluates MSE\n",
    "emse = emse/runs                              # evaluates EMSE\n",
    "msd = msd/runs                                # evaluates MSD\n",
    "msedb = 10 * np.log10(mse)                    # MSE in dB\n",
    "emsedb = 10 * np.log10(emse)                  # EMSE in dB\n",
    "msddb = 10 * np.log10(msd)                    # MSD in dB"
   ]
  },
  {
   "cell_type": "markdown",
   "id": "e3b7777c-dafe-4f41-9119-39f03fe21fd6",
   "metadata": {},
   "source": [
    "### Plotting the results"
   ]
  },
  {
   "cell_type": "code",
   "execution_count": 15,
   "id": "26dd0b5e-1696-443e-98be-de49a973c2f3",
   "metadata": {},
   "outputs": [
    {
     "data": {
      "image/png": "[encoded data removed]",
      "text/plain": [
       "<Figure size 432x288 with 1 Axes>"
      ]
     },
     "metadata": {
      "needs_background": "light"
     },
     "output_type": "display_data"
    },
    {
     "data": {
      "image/png": "[encoded data removed]",
      "text/plain": [
       "<Figure size 432x288 with 1 Axes>"
      ]
     },
     "metadata": {
      "needs_background": "light"
     },
     "output_type": "display_data"
    },
    {
     "name": "stdout",
     "output_type": "stream",
     "text": [
      "Duration:  0.40897939205169676 min\n",
      "Duration:  24.538763523101807 s\n"
     ]
    }
   ],
   "source": [
    "plt.figure()\n",
    "t = np.arange(iterations)\n",
    "plt.plot(t,emsedb,label='simulations'), plt.grid()    \n",
    "plt.plot(t,emsetheo,label='theory')  \n",
    "#plt.plot(t,10*np.log10(Jex),label='theory model'),plt.grid()\n",
    "plt.legend()                           # adds legend with labels defined above\n",
    "plt.title('Excess Mean Squared Error', fontsize=18)\n",
    "plt.xlabel('iterations', fontsize=14)\n",
    "plt.ylabel('EMSE (dB)', fontsize=14)\n",
    "plt.xticks(fontsize=14)\n",
    "plt.yticks(fontsize=14)\n",
    "ax = plt.gca()                    # grabs current axes and names them ax\n",
    "# Setting axes properties\n",
    "ax.ticklabel_format(style='sci', axis='x', scilimits=(0,0)) # scientific number style\n",
    "ax.xaxis.offsetText.set_fontsize(14)                        # offset text font size\n",
    "#plt.savefig('testfig.pdf',bbox_inches='tight')\n",
    "#plt.show()\n",
    "\n",
    "plt.figure()\n",
    "plt.plot(t,msddb,label='simulations'), plt.grid()    \n",
    "plt.plot(t,msdtheo,label='theory')  \n",
    "#plt.plot(t,10*np.log10(Jex),label='theory model'),plt.grid()\n",
    "plt.legend()                           # adds legend with labels defined above\n",
    "plt.title('Mean Square Deviation', fontsize=18)\n",
    "plt.xlabel('iterations', fontsize=14)\n",
    "plt.ylabel('MSD (dB)', fontsize=14)\n",
    "plt.xticks(fontsize=14)\n",
    "plt.yticks(fontsize=14)\n",
    "ax = plt.gca()                    # grabs current axes and names them ax\n",
    "# Setting axes properties\n",
    "ax.ticklabel_format(style='sci', axis='x', scilimits=(0,0)) # scientific number style\n",
    "ax.xaxis.offsetText.set_fontsize(14)                        # offset text font size\n",
    "#plt.savefig('testfig.pdf',bbox_inches='tight')\n",
    "plt.show()\n",
    "\n",
    "end_time = time.time()\n",
    "print('Duration: ', (end_time - t0)/60,'min')\n",
    "print('Duration: ', (end_time - t0),'s')"
   ]
  }
 ],
 "metadata": {
  "kernelspec": {
   "display_name": "Python 3 (ipykernel)",
   "language": "python",
   "name": "python3"
  },
  "language_info": {
   "codemirror_mode": {
    "name": "ipython",
    "version": 3
   },
   "file_extension": ".py",
   "mimetype": "text/x-python",
   "name": "python",
   "nbconvert_exporter": "python",
   "pygments_lexer": "ipython3",
   "version": "3.9.12"
  }
 },
 "nbformat": 4,
 "nbformat_minor": 5
}
