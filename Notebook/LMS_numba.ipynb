{
 "cells": [
  {
   "cell_type": "code",
   "execution_count": 1,
   "id": "9ee7464e-b629-40ad-a364-cd419c68b667",
   "metadata": {},
   "outputs": [
    {
     "data": {
      "text/plain": [
       "'\\nCreated on Sun Nov. 27 09:46 2022\\nLast change: November 27, 2022\\n\\nThis program runs the LMS algorithm in Python\\nInput signal: AR(1) process with a white Gaussian driving noise\\nStructure: System identification with an input delay line\\nUnknown system: Nonstationary using the random walk model\\n\\nThe code has been derived from lms_3.py\\n\\nThe code has been optimized using numba to accelerate processing \\nThe Monte Carlo simulations use parallel processing\\n\\n@author: bermudez\\n'"
      ]
     },
     "execution_count": 1,
     "metadata": {},
     "output_type": "execute_result"
    }
   ],
   "source": [
    "\"\"\"\n",
    "Created on Sun Nov. 27 09:46 2022\n",
    "Last change: November 27, 2022\n",
    "\n",
    "This program runs the LMS algorithm in Python\n",
    "Input signal: AR(1) process with a white Gaussian driving noise\n",
    "Structure: System identification with an input delay line\n",
    "Unknown system: Nonstationary using the random walk model\n",
    "\n",
    "The code has been derived from lms_3.py\n",
    "\n",
    "The code has been optimized using numba to accelerate processing \n",
    "The Monte Carlo simulations use parallel processing\n",
    "\n",
    "@author: bermudez\n",
    "\"\"\"\n"
   ]
  },
  {
   "cell_type": "markdown",
   "id": "aa006506-ffbb-4d3d-a091-31d804171ae8",
   "metadata": {},
   "source": [
    "### Importing the modules necessary for scientific calculations"
   ]
  },
  {
   "cell_type": "code",
   "execution_count": 2,
   "id": "8ac0bae7-7206-4a6d-93c5-343810ef5919",
   "metadata": {},
   "outputs": [],
   "source": [
    "import numpy as np              # module for working with arrays\n",
    "import scipy.linalg as linalg   # modulee for linear algebra\n",
    "import matplotlib.pyplot as plt # module for plotting\n",
    "import numba as nb              # module numba\n",
    "import time\n",
    "#import myfunctions as mf        # module for my own functions"
   ]
  },
  {
   "cell_type": "code",
   "execution_count": 3,
   "id": "4da1b126-6fab-42a2-a4f1-a72ca33f250f",
   "metadata": {},
   "outputs": [],
   "source": [
    "nb.config.NUMBA_NUM_THREADS=64"
   ]
  },
  {
   "cell_type": "markdown",
   "id": "34551cd8-5b2c-41df-a173-78a6c4c5aaa5",
   "metadata": {},
   "source": [
    "### Timing execution"
   ]
  },
  {
   "cell_type": "code",
   "execution_count": 4,
   "id": "b7317ba8-585b-4a12-ad5e-cf32f8129c7b",
   "metadata": {},
   "outputs": [],
   "source": [
    "t0 = time.time()"
   ]
  },
  {
   "cell_type": "markdown",
   "id": "fc261d00-cd08-4a95-a0d5-5f70f416d660",
   "metadata": {},
   "source": [
    "### Theoretical model evaluation"
   ]
  },
  {
   "cell_type": "code",
   "execution_count": 5,
   "id": "2fbe77f1-ba9e-498e-929e-a4a61206663d",
   "metadata": {},
   "outputs": [],
   "source": [
    "# Classical LMS model for Gaussian inputs (Eq. 10.4.28, Manolakis' book)\n",
    "#@nb.njit(nb.types.Tuple((nb.float64[:],nb.float64[:]))(nb.float64[:]),fastmath=True)\n",
    "@nb.njit(fastmath=True)\n",
    "def classical_model(K0):\n",
    "    global R, varz, varq, mu, N, iterations\n",
    "    msdt = np.zeros(iterations)\n",
    "    emset = np.zeros(iterations)\n",
    "    K = K0\n",
    "    msdt[0] = np.trace(K)\n",
    "    emset[0] = np.trace(R @ K)\n",
    "    for m in np.arange(1,iterations):\n",
    "        K = K - mu * (R @ K + K @ R) \\\n",
    "            + mu**2 * (np.trace(R @ K) * R + 2 * R @ K @ R)\\\n",
    "            + mu**2 * varz * R + varq * np.eye(N)\n",
    "        msdt[m] = np.trace(K)\n",
    "        emset[m] = np.trace(R @ K)\n",
    "        \n",
    "    return msdt, emset    "
   ]
  },
  {
   "cell_type": "raw",
   "id": "b2ecf8bc-80aa-49dc-9f4d-077e579c6521",
   "metadata": {},
   "source": [
    "# Monte Carlo simulation\n",
    "@nb.njit(fastmath=True, parallel=True)\n",
    "def Monte_Carlo():\n",
    "    global runs, SystemResponse, alpha, varx, varz, varq, N, iterations\n",
    "    mse = np.zeros(iterations)            # Mean square error\n",
    "    emse = np.zeros(iterations)           # Excess mean square error\n",
    "    msd = np.zeros(iterations)            # Mean square deviation\n",
    "    #for r in np.arange(runs):                     # loop for realizations\n",
    "    for r in nb.prange(runs):\n",
    "        SystemResponsen = SystemResponse          # Updates the channel response\n",
    "        W = np.zeros(N)                           # initializes W(0)\n",
    "\n",
    "        # Input driving noise generation\n",
    "        X0 = np.sqrt((1-alpha**2)*varx)*np.random.normal(0,1,size=iterations+N)\n",
    "        X1 = np.zeros(iterations+N)            # initializes vector of input samples\n",
    "        X1[0] = X0[0]\n",
    "        for k in np.arange(1,iterations+N):    # AR(1) model\n",
    "            X1[k] = alpha*X1[k-1] + X0[k]\n",
    "\n",
    "        # Generation of the measurement noise sequence\n",
    "        noise = np.sqrt(varz)*np.random.randn(iterations+N)\n",
    "        \n",
    "        # Adaptive algorithm\n",
    "        for n in np.arange(iterations):\n",
    "            X = X1[n:n+N]                         # generates input vector\n",
    "            X = X[::-1]                           # flips the vector around\n",
    "            z = noise[n]                          # generates additive noise sample\n",
    "            d = X @ SystemResponsen + z           # evaluates desired signal\n",
    "            y = X @ W                             # evaluates adaptive filter output\n",
    "            e = d - y                             # evaluates error signal\n",
    "            mse[n] = mse[n] + e**2                # accumulates e²(n)\n",
    "            emse[n] = emse[n] + (e-z)**2          # accumulates (e(n)-z(n))²\n",
    "            V = W - SystemResponsen               # evaluates weight error vector\n",
    "            msd[n] = msd[n] + V @ V               # evaluates MSD(n)\n",
    "            # Updating the adaptive weights\n",
    "            W = W + mu * e * X\n",
    "            # Update of unknown system response\n",
    "            SystemResponsen = SystemResponsen + np.sqrt(varq) * np.random.randn(N)\n",
    "        \n",
    "    return mse, emse, msd  "
   ]
  },
  {
   "cell_type": "code",
   "execution_count": 6,
   "id": "e9734bff-dc5a-4fb6-9b22-0eb0339c17a1",
   "metadata": {},
   "outputs": [
    {
     "ename": "TypingError",
     "evalue": "Failed in nopython mode pipeline (step: nopython frontend)\n\u001b[1mNameError: name 'runs' is not defined\u001b[0m",
     "output_type": "error",
     "traceback": [
      "\u001b[0;31m---------------------------------------------------------------------------\u001b[0m",
      "\u001b[0;31mTypingError\u001b[0m                               Traceback (most recent call last)",
      "Input \u001b[0;32mIn [6]\u001b[0m, in \u001b[0;36m<cell line: 7>\u001b[0;34m()\u001b[0m\n\u001b[1;32m      1\u001b[0m \u001b[38;5;66;03m# Monte Carlo simulation\u001b[39;00m\n\u001b[1;32m      2\u001b[0m \u001b[38;5;66;03m# (nb.float64[:], nb.float64[:], nb.float64[:]), \u001b[39;00m\n\u001b[1;32m      3\u001b[0m \u001b[38;5;66;03m#@nb.njit([nb.float64[:], nb.float64[:], nb.float64[:](nb.float64[:], nb.float64[:], nb.float64[:])], fastmath=True, nogil=True, parallel=True)\u001b[39;00m\n\u001b[1;32m      4\u001b[0m \u001b[38;5;66;03m#@nb.njit(fastmath=True, nogil=True, parallel=True)\u001b[39;00m\n\u001b[1;32m      5\u001b[0m \u001b[38;5;66;03m#@nb.njit(fastmath=True, nogil=True)\u001b[39;00m\n\u001b[1;32m      6\u001b[0m \u001b[38;5;66;03m#@nb.vectorize([(nb.float64, nb.float64, nb.float64),(nb.float64, nb.float64, nb.float64)], fastmath=True, nogil=True, parallel=True)\u001b[39;00m\n\u001b[1;32m      7\u001b[0m \u001b[38;5;129;43m@nb\u001b[39;49m\u001b[38;5;241;43m.\u001b[39;49m\u001b[43mnjit\u001b[49m\u001b[43m(\u001b[49m\u001b[43m[\u001b[49m\u001b[43m(\u001b[49m\u001b[43mnb\u001b[49m\u001b[38;5;241;43m.\u001b[39;49m\u001b[43mfloat64\u001b[49m\u001b[43m[\u001b[49m\u001b[43m:\u001b[49m\u001b[43m]\u001b[49m\u001b[43m,\u001b[49m\u001b[43m \u001b[49m\u001b[43mnb\u001b[49m\u001b[38;5;241;43m.\u001b[39;49m\u001b[43mfloat64\u001b[49m\u001b[43m[\u001b[49m\u001b[43m:\u001b[49m\u001b[43m]\u001b[49m\u001b[43m,\u001b[49m\u001b[43m \u001b[49m\u001b[43mnb\u001b[49m\u001b[38;5;241;43m.\u001b[39;49m\u001b[43mfloat64\u001b[49m\u001b[43m[\u001b[49m\u001b[43m:\u001b[49m\u001b[43m]\u001b[49m\u001b[43m)\u001b[49m\u001b[43m,\u001b[49m\u001b[43m(\u001b[49m\u001b[43mnb\u001b[49m\u001b[38;5;241;43m.\u001b[39;49m\u001b[43mfloat64\u001b[49m\u001b[43m[\u001b[49m\u001b[43m:\u001b[49m\u001b[43m]\u001b[49m\u001b[43m,\u001b[49m\u001b[43m \u001b[49m\u001b[43mnb\u001b[49m\u001b[38;5;241;43m.\u001b[39;49m\u001b[43mfloat64\u001b[49m\u001b[43m[\u001b[49m\u001b[43m:\u001b[49m\u001b[43m]\u001b[49m\u001b[43m,\u001b[49m\u001b[43m \u001b[49m\u001b[43mnb\u001b[49m\u001b[38;5;241;43m.\u001b[39;49m\u001b[43mfloat64\u001b[49m\u001b[43m[\u001b[49m\u001b[43m:\u001b[49m\u001b[43m]\u001b[49m\u001b[43m)\u001b[49m\u001b[43m]\u001b[49m\u001b[43m,\u001b[49m\u001b[43m \u001b[49m\u001b[43mfastmath\u001b[49m\u001b[38;5;241;43m=\u001b[39;49m\u001b[38;5;28;43;01mTrue\u001b[39;49;00m\u001b[43m,\u001b[49m\u001b[43m \u001b[49m\u001b[43mnogil\u001b[49m\u001b[38;5;241;43m=\u001b[39;49m\u001b[38;5;28;43;01mTrue\u001b[39;49;00m\u001b[43m,\u001b[49m\u001b[43m \u001b[49m\u001b[43mparallel\u001b[49m\u001b[38;5;241;43m=\u001b[39;49m\u001b[38;5;28;43;01mTrue\u001b[39;49;00m\u001b[43m)\u001b[49m\n\u001b[0;32m----> 8\u001b[0m \u001b[38;5;28;43;01mdef\u001b[39;49;00m\u001b[43m \u001b[49m\u001b[38;5;21;43mMonte_Carlo\u001b[39;49m\u001b[43m(\u001b[49m\u001b[43mmse\u001b[49m\u001b[43m,\u001b[49m\u001b[43m \u001b[49m\u001b[43memse\u001b[49m\u001b[43m,\u001b[49m\u001b[43m \u001b[49m\u001b[43mmsd\u001b[49m\u001b[43m)\u001b[49m\u001b[43m:\u001b[49m\n\u001b[1;32m      9\u001b[0m \u001b[43m    \u001b[49m\u001b[38;5;28;43;01mglobal\u001b[39;49;00m\u001b[43m \u001b[49m\u001b[43mruns\u001b[49m\u001b[43m,\u001b[49m\u001b[43m \u001b[49m\u001b[43mSystemResponse\u001b[49m\u001b[43m,\u001b[49m\u001b[43m \u001b[49m\u001b[43malpha\u001b[49m\u001b[43m,\u001b[49m\u001b[43m \u001b[49m\u001b[43mvarx\u001b[49m\u001b[43m,\u001b[49m\u001b[43m \u001b[49m\u001b[43mvarz\u001b[49m\u001b[43m,\u001b[49m\u001b[43m \u001b[49m\u001b[43mvarq\u001b[49m\u001b[43m,\u001b[49m\u001b[43m \u001b[49m\u001b[43mN\u001b[49m\u001b[43m,\u001b[49m\u001b[43m \u001b[49m\u001b[43miterations\u001b[49m\n\u001b[1;32m     10\u001b[0m \u001b[43m    \u001b[49m\u001b[38;5;66;43;03m#mse = np.zeros(iterations)            # Mean square error\u001b[39;49;00m\n\u001b[1;32m     11\u001b[0m \u001b[43m    \u001b[49m\u001b[38;5;66;43;03m#emse = np.zeros(iterations)           # Excess mean square error\u001b[39;49;00m\n\u001b[1;32m     12\u001b[0m \u001b[43m    \u001b[49m\u001b[38;5;66;43;03m#msd = np.zeros(iterations)            # Mean square deviation\u001b[39;49;00m\n\u001b[1;32m     13\u001b[0m \u001b[43m    \u001b[49m\u001b[38;5;66;43;03m#for r in np.arange(runs):                     # loop for realizations\u001b[39;49;00m\n",
      "File \u001b[0;32m~/anaconda3/lib/python3.8/site-packages/numba/core/decorators.py:219\u001b[0m, in \u001b[0;36m_jit.<locals>.wrapper\u001b[0;34m(func)\u001b[0m\n\u001b[1;32m    217\u001b[0m     \u001b[38;5;28;01mwith\u001b[39;00m typeinfer\u001b[38;5;241m.\u001b[39mregister_dispatcher(disp):\n\u001b[1;32m    218\u001b[0m         \u001b[38;5;28;01mfor\u001b[39;00m sig \u001b[38;5;129;01min\u001b[39;00m sigs:\n\u001b[0;32m--> 219\u001b[0m             \u001b[43mdisp\u001b[49m\u001b[38;5;241;43m.\u001b[39;49m\u001b[43mcompile\u001b[49m\u001b[43m(\u001b[49m\u001b[43msig\u001b[49m\u001b[43m)\u001b[49m\n\u001b[1;32m    220\u001b[0m         disp\u001b[38;5;241m.\u001b[39mdisable_compile()\n\u001b[1;32m    221\u001b[0m \u001b[38;5;28;01mreturn\u001b[39;00m disp\n",
      "File \u001b[0;32m~/anaconda3/lib/python3.8/site-packages/numba/core/dispatcher.py:965\u001b[0m, in \u001b[0;36mDispatcher.compile\u001b[0;34m(self, sig)\u001b[0m\n\u001b[1;32m    963\u001b[0m \u001b[38;5;28;01mwith\u001b[39;00m ev\u001b[38;5;241m.\u001b[39mtrigger_event(\u001b[38;5;124m\"\u001b[39m\u001b[38;5;124mnumba:compile\u001b[39m\u001b[38;5;124m\"\u001b[39m, data\u001b[38;5;241m=\u001b[39mev_details):\n\u001b[1;32m    964\u001b[0m     \u001b[38;5;28;01mtry\u001b[39;00m:\n\u001b[0;32m--> 965\u001b[0m         cres \u001b[38;5;241m=\u001b[39m \u001b[38;5;28;43mself\u001b[39;49m\u001b[38;5;241;43m.\u001b[39;49m\u001b[43m_compiler\u001b[49m\u001b[38;5;241;43m.\u001b[39;49m\u001b[43mcompile\u001b[49m\u001b[43m(\u001b[49m\u001b[43margs\u001b[49m\u001b[43m,\u001b[49m\u001b[43m \u001b[49m\u001b[43mreturn_type\u001b[49m\u001b[43m)\u001b[49m\n\u001b[1;32m    966\u001b[0m     \u001b[38;5;28;01mexcept\u001b[39;00m errors\u001b[38;5;241m.\u001b[39mForceLiteralArg \u001b[38;5;28;01mas\u001b[39;00m e:\n\u001b[1;32m    967\u001b[0m         \u001b[38;5;28;01mdef\u001b[39;00m \u001b[38;5;21mfolded\u001b[39m(args, kws):\n",
      "File \u001b[0;32m~/anaconda3/lib/python3.8/site-packages/numba/core/dispatcher.py:129\u001b[0m, in \u001b[0;36m_FunctionCompiler.compile\u001b[0;34m(self, args, return_type)\u001b[0m\n\u001b[1;32m    127\u001b[0m     \u001b[38;5;28;01mreturn\u001b[39;00m retval\n\u001b[1;32m    128\u001b[0m \u001b[38;5;28;01melse\u001b[39;00m:\n\u001b[0;32m--> 129\u001b[0m     \u001b[38;5;28;01mraise\u001b[39;00m retval\n",
      "File \u001b[0;32m~/anaconda3/lib/python3.8/site-packages/numba/core/dispatcher.py:139\u001b[0m, in \u001b[0;36m_FunctionCompiler._compile_cached\u001b[0;34m(self, args, return_type)\u001b[0m\n\u001b[1;32m    136\u001b[0m     \u001b[38;5;28;01mpass\u001b[39;00m\n\u001b[1;32m    138\u001b[0m \u001b[38;5;28;01mtry\u001b[39;00m:\n\u001b[0;32m--> 139\u001b[0m     retval \u001b[38;5;241m=\u001b[39m \u001b[38;5;28;43mself\u001b[39;49m\u001b[38;5;241;43m.\u001b[39;49m\u001b[43m_compile_core\u001b[49m\u001b[43m(\u001b[49m\u001b[43margs\u001b[49m\u001b[43m,\u001b[49m\u001b[43m \u001b[49m\u001b[43mreturn_type\u001b[49m\u001b[43m)\u001b[49m\n\u001b[1;32m    140\u001b[0m \u001b[38;5;28;01mexcept\u001b[39;00m errors\u001b[38;5;241m.\u001b[39mTypingError \u001b[38;5;28;01mas\u001b[39;00m e:\n\u001b[1;32m    141\u001b[0m     \u001b[38;5;28mself\u001b[39m\u001b[38;5;241m.\u001b[39m_failed_cache[key] \u001b[38;5;241m=\u001b[39m e\n",
      "File \u001b[0;32m~/anaconda3/lib/python3.8/site-packages/numba/core/dispatcher.py:152\u001b[0m, in \u001b[0;36m_FunctionCompiler._compile_core\u001b[0;34m(self, args, return_type)\u001b[0m\n\u001b[1;32m    149\u001b[0m flags \u001b[38;5;241m=\u001b[39m \u001b[38;5;28mself\u001b[39m\u001b[38;5;241m.\u001b[39m_customize_flags(flags)\n\u001b[1;32m    151\u001b[0m impl \u001b[38;5;241m=\u001b[39m \u001b[38;5;28mself\u001b[39m\u001b[38;5;241m.\u001b[39m_get_implementation(args, {})\n\u001b[0;32m--> 152\u001b[0m cres \u001b[38;5;241m=\u001b[39m \u001b[43mcompiler\u001b[49m\u001b[38;5;241;43m.\u001b[39;49m\u001b[43mcompile_extra\u001b[49m\u001b[43m(\u001b[49m\u001b[38;5;28;43mself\u001b[39;49m\u001b[38;5;241;43m.\u001b[39;49m\u001b[43mtargetdescr\u001b[49m\u001b[38;5;241;43m.\u001b[39;49m\u001b[43mtyping_context\u001b[49m\u001b[43m,\u001b[49m\n\u001b[1;32m    153\u001b[0m \u001b[43m                              \u001b[49m\u001b[38;5;28;43mself\u001b[39;49m\u001b[38;5;241;43m.\u001b[39;49m\u001b[43mtargetdescr\u001b[49m\u001b[38;5;241;43m.\u001b[39;49m\u001b[43mtarget_context\u001b[49m\u001b[43m,\u001b[49m\n\u001b[1;32m    154\u001b[0m \u001b[43m                              \u001b[49m\u001b[43mimpl\u001b[49m\u001b[43m,\u001b[49m\n\u001b[1;32m    155\u001b[0m \u001b[43m                              \u001b[49m\u001b[43margs\u001b[49m\u001b[38;5;241;43m=\u001b[39;49m\u001b[43margs\u001b[49m\u001b[43m,\u001b[49m\u001b[43m \u001b[49m\u001b[43mreturn_type\u001b[49m\u001b[38;5;241;43m=\u001b[39;49m\u001b[43mreturn_type\u001b[49m\u001b[43m,\u001b[49m\n\u001b[1;32m    156\u001b[0m \u001b[43m                              \u001b[49m\u001b[43mflags\u001b[49m\u001b[38;5;241;43m=\u001b[39;49m\u001b[43mflags\u001b[49m\u001b[43m,\u001b[49m\u001b[43m \u001b[49m\u001b[38;5;28;43mlocals\u001b[39;49m\u001b[38;5;241;43m=\u001b[39;49m\u001b[38;5;28;43mself\u001b[39;49m\u001b[38;5;241;43m.\u001b[39;49m\u001b[43mlocals\u001b[49m\u001b[43m,\u001b[49m\n\u001b[1;32m    157\u001b[0m \u001b[43m                              \u001b[49m\u001b[43mpipeline_class\u001b[49m\u001b[38;5;241;43m=\u001b[39;49m\u001b[38;5;28;43mself\u001b[39;49m\u001b[38;5;241;43m.\u001b[39;49m\u001b[43mpipeline_class\u001b[49m\u001b[43m)\u001b[49m\n\u001b[1;32m    158\u001b[0m \u001b[38;5;66;03m# Check typing error if object mode is used\u001b[39;00m\n\u001b[1;32m    159\u001b[0m \u001b[38;5;28;01mif\u001b[39;00m cres\u001b[38;5;241m.\u001b[39mtyping_error \u001b[38;5;129;01mis\u001b[39;00m \u001b[38;5;129;01mnot\u001b[39;00m \u001b[38;5;28;01mNone\u001b[39;00m \u001b[38;5;129;01mand\u001b[39;00m \u001b[38;5;129;01mnot\u001b[39;00m flags\u001b[38;5;241m.\u001b[39menable_pyobject:\n",
      "File \u001b[0;32m~/anaconda3/lib/python3.8/site-packages/numba/core/compiler.py:716\u001b[0m, in \u001b[0;36mcompile_extra\u001b[0;34m(typingctx, targetctx, func, args, return_type, flags, locals, library, pipeline_class)\u001b[0m\n\u001b[1;32m    692\u001b[0m \u001b[38;5;124;03m\"\"\"Compiler entry point\u001b[39;00m\n\u001b[1;32m    693\u001b[0m \n\u001b[1;32m    694\u001b[0m \u001b[38;5;124;03mParameter\u001b[39;00m\n\u001b[0;32m   (...)\u001b[0m\n\u001b[1;32m    712\u001b[0m \u001b[38;5;124;03m    compiler pipeline\u001b[39;00m\n\u001b[1;32m    713\u001b[0m \u001b[38;5;124;03m\"\"\"\u001b[39;00m\n\u001b[1;32m    714\u001b[0m pipeline \u001b[38;5;241m=\u001b[39m pipeline_class(typingctx, targetctx, library,\n\u001b[1;32m    715\u001b[0m                           args, return_type, flags, \u001b[38;5;28mlocals\u001b[39m)\n\u001b[0;32m--> 716\u001b[0m \u001b[38;5;28;01mreturn\u001b[39;00m \u001b[43mpipeline\u001b[49m\u001b[38;5;241;43m.\u001b[39;49m\u001b[43mcompile_extra\u001b[49m\u001b[43m(\u001b[49m\u001b[43mfunc\u001b[49m\u001b[43m)\u001b[49m\n",
      "File \u001b[0;32m~/anaconda3/lib/python3.8/site-packages/numba/core/compiler.py:452\u001b[0m, in \u001b[0;36mCompilerBase.compile_extra\u001b[0;34m(self, func)\u001b[0m\n\u001b[1;32m    450\u001b[0m \u001b[38;5;28mself\u001b[39m\u001b[38;5;241m.\u001b[39mstate\u001b[38;5;241m.\u001b[39mlifted \u001b[38;5;241m=\u001b[39m ()\n\u001b[1;32m    451\u001b[0m \u001b[38;5;28mself\u001b[39m\u001b[38;5;241m.\u001b[39mstate\u001b[38;5;241m.\u001b[39mlifted_from \u001b[38;5;241m=\u001b[39m \u001b[38;5;28;01mNone\u001b[39;00m\n\u001b[0;32m--> 452\u001b[0m \u001b[38;5;28;01mreturn\u001b[39;00m \u001b[38;5;28;43mself\u001b[39;49m\u001b[38;5;241;43m.\u001b[39;49m\u001b[43m_compile_bytecode\u001b[49m\u001b[43m(\u001b[49m\u001b[43m)\u001b[49m\n",
      "File \u001b[0;32m~/anaconda3/lib/python3.8/site-packages/numba/core/compiler.py:520\u001b[0m, in \u001b[0;36mCompilerBase._compile_bytecode\u001b[0;34m(self)\u001b[0m\n\u001b[1;32m    516\u001b[0m \u001b[38;5;124;03m\"\"\"\u001b[39;00m\n\u001b[1;32m    517\u001b[0m \u001b[38;5;124;03mPopulate and run pipeline for bytecode input\u001b[39;00m\n\u001b[1;32m    518\u001b[0m \u001b[38;5;124;03m\"\"\"\u001b[39;00m\n\u001b[1;32m    519\u001b[0m \u001b[38;5;28;01massert\u001b[39;00m \u001b[38;5;28mself\u001b[39m\u001b[38;5;241m.\u001b[39mstate\u001b[38;5;241m.\u001b[39mfunc_ir \u001b[38;5;129;01mis\u001b[39;00m \u001b[38;5;28;01mNone\u001b[39;00m\n\u001b[0;32m--> 520\u001b[0m \u001b[38;5;28;01mreturn\u001b[39;00m \u001b[38;5;28;43mself\u001b[39;49m\u001b[38;5;241;43m.\u001b[39;49m\u001b[43m_compile_core\u001b[49m\u001b[43m(\u001b[49m\u001b[43m)\u001b[49m\n",
      "File \u001b[0;32m~/anaconda3/lib/python3.8/site-packages/numba/core/compiler.py:499\u001b[0m, in \u001b[0;36mCompilerBase._compile_core\u001b[0;34m(self)\u001b[0m\n\u001b[1;32m    497\u001b[0m         \u001b[38;5;28mself\u001b[39m\u001b[38;5;241m.\u001b[39mstate\u001b[38;5;241m.\u001b[39mstatus\u001b[38;5;241m.\u001b[39mfail_reason \u001b[38;5;241m=\u001b[39m e\n\u001b[1;32m    498\u001b[0m         \u001b[38;5;28;01mif\u001b[39;00m is_final_pipeline:\n\u001b[0;32m--> 499\u001b[0m             \u001b[38;5;28;01mraise\u001b[39;00m e\n\u001b[1;32m    500\u001b[0m \u001b[38;5;28;01melse\u001b[39;00m:\n\u001b[1;32m    501\u001b[0m     \u001b[38;5;28;01mraise\u001b[39;00m CompilerError(\u001b[38;5;124m\"\u001b[39m\u001b[38;5;124mAll available pipelines exhausted\u001b[39m\u001b[38;5;124m\"\u001b[39m)\n",
      "File \u001b[0;32m~/anaconda3/lib/python3.8/site-packages/numba/core/compiler.py:486\u001b[0m, in \u001b[0;36mCompilerBase._compile_core\u001b[0;34m(self)\u001b[0m\n\u001b[1;32m    484\u001b[0m res \u001b[38;5;241m=\u001b[39m \u001b[38;5;28;01mNone\u001b[39;00m\n\u001b[1;32m    485\u001b[0m \u001b[38;5;28;01mtry\u001b[39;00m:\n\u001b[0;32m--> 486\u001b[0m     \u001b[43mpm\u001b[49m\u001b[38;5;241;43m.\u001b[39;49m\u001b[43mrun\u001b[49m\u001b[43m(\u001b[49m\u001b[38;5;28;43mself\u001b[39;49m\u001b[38;5;241;43m.\u001b[39;49m\u001b[43mstate\u001b[49m\u001b[43m)\u001b[49m\n\u001b[1;32m    487\u001b[0m     \u001b[38;5;28;01mif\u001b[39;00m \u001b[38;5;28mself\u001b[39m\u001b[38;5;241m.\u001b[39mstate\u001b[38;5;241m.\u001b[39mcr \u001b[38;5;129;01mis\u001b[39;00m \u001b[38;5;129;01mnot\u001b[39;00m \u001b[38;5;28;01mNone\u001b[39;00m:\n\u001b[1;32m    488\u001b[0m         \u001b[38;5;28;01mbreak\u001b[39;00m\n",
      "File \u001b[0;32m~/anaconda3/lib/python3.8/site-packages/numba/core/compiler_machinery.py:368\u001b[0m, in \u001b[0;36mPassManager.run\u001b[0;34m(self, state)\u001b[0m\n\u001b[1;32m    365\u001b[0m msg \u001b[38;5;241m=\u001b[39m \u001b[38;5;124m\"\u001b[39m\u001b[38;5;124mFailed in \u001b[39m\u001b[38;5;132;01m%s\u001b[39;00m\u001b[38;5;124m mode pipeline (step: \u001b[39m\u001b[38;5;132;01m%s\u001b[39;00m\u001b[38;5;124m)\u001b[39m\u001b[38;5;124m\"\u001b[39m \u001b[38;5;241m%\u001b[39m \\\n\u001b[1;32m    366\u001b[0m     (\u001b[38;5;28mself\u001b[39m\u001b[38;5;241m.\u001b[39mpipeline_name, pass_desc)\n\u001b[1;32m    367\u001b[0m patched_exception \u001b[38;5;241m=\u001b[39m \u001b[38;5;28mself\u001b[39m\u001b[38;5;241m.\u001b[39m_patch_error(msg, e)\n\u001b[0;32m--> 368\u001b[0m \u001b[38;5;28;01mraise\u001b[39;00m patched_exception\n",
      "File \u001b[0;32m~/anaconda3/lib/python3.8/site-packages/numba/core/compiler_machinery.py:356\u001b[0m, in \u001b[0;36mPassManager.run\u001b[0;34m(self, state)\u001b[0m\n\u001b[1;32m    354\u001b[0m pass_inst \u001b[38;5;241m=\u001b[39m _pass_registry\u001b[38;5;241m.\u001b[39mget(pss)\u001b[38;5;241m.\u001b[39mpass_inst\n\u001b[1;32m    355\u001b[0m \u001b[38;5;28;01mif\u001b[39;00m \u001b[38;5;28misinstance\u001b[39m(pass_inst, CompilerPass):\n\u001b[0;32m--> 356\u001b[0m     \u001b[38;5;28;43mself\u001b[39;49m\u001b[38;5;241;43m.\u001b[39;49m\u001b[43m_runPass\u001b[49m\u001b[43m(\u001b[49m\u001b[43midx\u001b[49m\u001b[43m,\u001b[49m\u001b[43m \u001b[49m\u001b[43mpass_inst\u001b[49m\u001b[43m,\u001b[49m\u001b[43m \u001b[49m\u001b[43mstate\u001b[49m\u001b[43m)\u001b[49m\n\u001b[1;32m    357\u001b[0m \u001b[38;5;28;01melse\u001b[39;00m:\n\u001b[1;32m    358\u001b[0m     \u001b[38;5;28;01mraise\u001b[39;00m \u001b[38;5;167;01mBaseException\u001b[39;00m(\u001b[38;5;124m\"\u001b[39m\u001b[38;5;124mLegacy pass in use\u001b[39m\u001b[38;5;124m\"\u001b[39m)\n",
      "File \u001b[0;32m~/anaconda3/lib/python3.8/site-packages/numba/core/compiler_lock.py:35\u001b[0m, in \u001b[0;36m_CompilerLock.__call__.<locals>._acquire_compile_lock\u001b[0;34m(*args, **kwargs)\u001b[0m\n\u001b[1;32m     32\u001b[0m \u001b[38;5;129m@functools\u001b[39m\u001b[38;5;241m.\u001b[39mwraps(func)\n\u001b[1;32m     33\u001b[0m \u001b[38;5;28;01mdef\u001b[39;00m \u001b[38;5;21m_acquire_compile_lock\u001b[39m(\u001b[38;5;241m*\u001b[39margs, \u001b[38;5;241m*\u001b[39m\u001b[38;5;241m*\u001b[39mkwargs):\n\u001b[1;32m     34\u001b[0m     \u001b[38;5;28;01mwith\u001b[39;00m \u001b[38;5;28mself\u001b[39m:\n\u001b[0;32m---> 35\u001b[0m         \u001b[38;5;28;01mreturn\u001b[39;00m \u001b[43mfunc\u001b[49m\u001b[43m(\u001b[49m\u001b[38;5;241;43m*\u001b[39;49m\u001b[43margs\u001b[49m\u001b[43m,\u001b[49m\u001b[43m \u001b[49m\u001b[38;5;241;43m*\u001b[39;49m\u001b[38;5;241;43m*\u001b[39;49m\u001b[43mkwargs\u001b[49m\u001b[43m)\u001b[49m\n",
      "File \u001b[0;32m~/anaconda3/lib/python3.8/site-packages/numba/core/compiler_machinery.py:311\u001b[0m, in \u001b[0;36mPassManager._runPass\u001b[0;34m(self, index, pss, internal_state)\u001b[0m\n\u001b[1;32m    309\u001b[0m     mutated \u001b[38;5;241m|\u001b[39m\u001b[38;5;241m=\u001b[39m check(pss\u001b[38;5;241m.\u001b[39mrun_initialization, internal_state)\n\u001b[1;32m    310\u001b[0m \u001b[38;5;28;01mwith\u001b[39;00m SimpleTimer() \u001b[38;5;28;01mas\u001b[39;00m pass_time:\n\u001b[0;32m--> 311\u001b[0m     mutated \u001b[38;5;241m|\u001b[39m\u001b[38;5;241m=\u001b[39m \u001b[43mcheck\u001b[49m\u001b[43m(\u001b[49m\u001b[43mpss\u001b[49m\u001b[38;5;241;43m.\u001b[39;49m\u001b[43mrun_pass\u001b[49m\u001b[43m,\u001b[49m\u001b[43m \u001b[49m\u001b[43minternal_state\u001b[49m\u001b[43m)\u001b[49m\n\u001b[1;32m    312\u001b[0m \u001b[38;5;28;01mwith\u001b[39;00m SimpleTimer() \u001b[38;5;28;01mas\u001b[39;00m finalize_time:\n\u001b[1;32m    313\u001b[0m     mutated \u001b[38;5;241m|\u001b[39m\u001b[38;5;241m=\u001b[39m check(pss\u001b[38;5;241m.\u001b[39mrun_finalizer, internal_state)\n",
      "File \u001b[0;32m~/anaconda3/lib/python3.8/site-packages/numba/core/compiler_machinery.py:273\u001b[0m, in \u001b[0;36mPassManager._runPass.<locals>.check\u001b[0;34m(func, compiler_state)\u001b[0m\n\u001b[1;32m    272\u001b[0m \u001b[38;5;28;01mdef\u001b[39;00m \u001b[38;5;21mcheck\u001b[39m(func, compiler_state):\n\u001b[0;32m--> 273\u001b[0m     mangled \u001b[38;5;241m=\u001b[39m \u001b[43mfunc\u001b[49m\u001b[43m(\u001b[49m\u001b[43mcompiler_state\u001b[49m\u001b[43m)\u001b[49m\n\u001b[1;32m    274\u001b[0m     \u001b[38;5;28;01mif\u001b[39;00m mangled \u001b[38;5;129;01mnot\u001b[39;00m \u001b[38;5;129;01min\u001b[39;00m (\u001b[38;5;28;01mTrue\u001b[39;00m, \u001b[38;5;28;01mFalse\u001b[39;00m):\n\u001b[1;32m    275\u001b[0m         msg \u001b[38;5;241m=\u001b[39m (\u001b[38;5;124m\"\u001b[39m\u001b[38;5;124mCompilerPass implementations should return True/False. \u001b[39m\u001b[38;5;124m\"\u001b[39m\n\u001b[1;32m    276\u001b[0m                \u001b[38;5;124m\"\u001b[39m\u001b[38;5;124mCompilerPass with name \u001b[39m\u001b[38;5;124m'\u001b[39m\u001b[38;5;132;01m%s\u001b[39;00m\u001b[38;5;124m'\u001b[39m\u001b[38;5;124m did not.\u001b[39m\u001b[38;5;124m\"\u001b[39m)\n",
      "File \u001b[0;32m~/anaconda3/lib/python3.8/site-packages/numba/core/typed_passes.py:105\u001b[0m, in \u001b[0;36mBaseTypeInference.run_pass\u001b[0;34m(self, state)\u001b[0m\n\u001b[1;32m     99\u001b[0m \u001b[38;5;124;03m\"\"\"\u001b[39;00m\n\u001b[1;32m    100\u001b[0m \u001b[38;5;124;03mType inference and legalization\u001b[39;00m\n\u001b[1;32m    101\u001b[0m \u001b[38;5;124;03m\"\"\"\u001b[39;00m\n\u001b[1;32m    102\u001b[0m \u001b[38;5;28;01mwith\u001b[39;00m fallback_context(state, \u001b[38;5;124m'\u001b[39m\u001b[38;5;124mFunction \u001b[39m\u001b[38;5;124m\"\u001b[39m\u001b[38;5;132;01m%s\u001b[39;00m\u001b[38;5;124m\"\u001b[39m\u001b[38;5;124m failed type inference\u001b[39m\u001b[38;5;124m'\u001b[39m\n\u001b[1;32m    103\u001b[0m                       \u001b[38;5;241m%\u001b[39m (state\u001b[38;5;241m.\u001b[39mfunc_id\u001b[38;5;241m.\u001b[39mfunc_name,)):\n\u001b[1;32m    104\u001b[0m     \u001b[38;5;66;03m# Type inference\u001b[39;00m\n\u001b[0;32m--> 105\u001b[0m     typemap, return_type, calltypes, errs \u001b[38;5;241m=\u001b[39m \u001b[43mtype_inference_stage\u001b[49m\u001b[43m(\u001b[49m\n\u001b[1;32m    106\u001b[0m \u001b[43m        \u001b[49m\u001b[43mstate\u001b[49m\u001b[38;5;241;43m.\u001b[39;49m\u001b[43mtypingctx\u001b[49m\u001b[43m,\u001b[49m\n\u001b[1;32m    107\u001b[0m \u001b[43m        \u001b[49m\u001b[43mstate\u001b[49m\u001b[38;5;241;43m.\u001b[39;49m\u001b[43mtargetctx\u001b[49m\u001b[43m,\u001b[49m\n\u001b[1;32m    108\u001b[0m \u001b[43m        \u001b[49m\u001b[43mstate\u001b[49m\u001b[38;5;241;43m.\u001b[39;49m\u001b[43mfunc_ir\u001b[49m\u001b[43m,\u001b[49m\n\u001b[1;32m    109\u001b[0m \u001b[43m        \u001b[49m\u001b[43mstate\u001b[49m\u001b[38;5;241;43m.\u001b[39;49m\u001b[43margs\u001b[49m\u001b[43m,\u001b[49m\n\u001b[1;32m    110\u001b[0m \u001b[43m        \u001b[49m\u001b[43mstate\u001b[49m\u001b[38;5;241;43m.\u001b[39;49m\u001b[43mreturn_type\u001b[49m\u001b[43m,\u001b[49m\n\u001b[1;32m    111\u001b[0m \u001b[43m        \u001b[49m\u001b[43mstate\u001b[49m\u001b[38;5;241;43m.\u001b[39;49m\u001b[43mlocals\u001b[49m\u001b[43m,\u001b[49m\n\u001b[1;32m    112\u001b[0m \u001b[43m        \u001b[49m\u001b[43mraise_errors\u001b[49m\u001b[38;5;241;43m=\u001b[39;49m\u001b[38;5;28;43mself\u001b[39;49m\u001b[38;5;241;43m.\u001b[39;49m\u001b[43m_raise_errors\u001b[49m\u001b[43m)\u001b[49m\n\u001b[1;32m    113\u001b[0m     state\u001b[38;5;241m.\u001b[39mtypemap \u001b[38;5;241m=\u001b[39m typemap\n\u001b[1;32m    114\u001b[0m     \u001b[38;5;66;03m# save errors in case of partial typing\u001b[39;00m\n",
      "File \u001b[0;32m~/anaconda3/lib/python3.8/site-packages/numba/core/typed_passes.py:81\u001b[0m, in \u001b[0;36mtype_inference_stage\u001b[0;34m(typingctx, targetctx, interp, args, return_type, locals, raise_errors)\u001b[0m\n\u001b[1;32m     78\u001b[0m \u001b[38;5;28;01mfor\u001b[39;00m k, v \u001b[38;5;129;01min\u001b[39;00m \u001b[38;5;28mlocals\u001b[39m\u001b[38;5;241m.\u001b[39mitems():\n\u001b[1;32m     79\u001b[0m     infer\u001b[38;5;241m.\u001b[39mseed_type(k, v)\n\u001b[0;32m---> 81\u001b[0m \u001b[43minfer\u001b[49m\u001b[38;5;241;43m.\u001b[39;49m\u001b[43mbuild_constraint\u001b[49m\u001b[43m(\u001b[49m\u001b[43m)\u001b[49m\n\u001b[1;32m     82\u001b[0m \u001b[38;5;66;03m# return errors in case of partial typing\u001b[39;00m\n\u001b[1;32m     83\u001b[0m errs \u001b[38;5;241m=\u001b[39m infer\u001b[38;5;241m.\u001b[39mpropagate(raise_errors\u001b[38;5;241m=\u001b[39mraise_errors)\n",
      "File \u001b[0;32m~/anaconda3/lib/python3.8/site-packages/numba/core/typeinfer.py:1039\u001b[0m, in \u001b[0;36mTypeInferer.build_constraint\u001b[0;34m(self)\u001b[0m\n\u001b[1;32m   1037\u001b[0m \u001b[38;5;28;01mfor\u001b[39;00m blk \u001b[38;5;129;01min\u001b[39;00m \u001b[38;5;28mself\u001b[39m\u001b[38;5;241m.\u001b[39mblocks\u001b[38;5;241m.\u001b[39mvalues():\n\u001b[1;32m   1038\u001b[0m     \u001b[38;5;28;01mfor\u001b[39;00m inst \u001b[38;5;129;01min\u001b[39;00m blk\u001b[38;5;241m.\u001b[39mbody:\n\u001b[0;32m-> 1039\u001b[0m         \u001b[38;5;28;43mself\u001b[39;49m\u001b[38;5;241;43m.\u001b[39;49m\u001b[43mconstrain_statement\u001b[49m\u001b[43m(\u001b[49m\u001b[43minst\u001b[49m\u001b[43m)\u001b[49m\n",
      "File \u001b[0;32m~/anaconda3/lib/python3.8/site-packages/numba/core/typeinfer.py:1386\u001b[0m, in \u001b[0;36mTypeInferer.constrain_statement\u001b[0;34m(self, inst)\u001b[0m\n\u001b[1;32m   1384\u001b[0m \u001b[38;5;28;01mdef\u001b[39;00m \u001b[38;5;21mconstrain_statement\u001b[39m(\u001b[38;5;28mself\u001b[39m, inst):\n\u001b[1;32m   1385\u001b[0m     \u001b[38;5;28;01mif\u001b[39;00m \u001b[38;5;28misinstance\u001b[39m(inst, ir\u001b[38;5;241m.\u001b[39mAssign):\n\u001b[0;32m-> 1386\u001b[0m         \u001b[38;5;28;43mself\u001b[39;49m\u001b[38;5;241;43m.\u001b[39;49m\u001b[43mtypeof_assign\u001b[49m\u001b[43m(\u001b[49m\u001b[43minst\u001b[49m\u001b[43m)\u001b[49m\n\u001b[1;32m   1387\u001b[0m     \u001b[38;5;28;01melif\u001b[39;00m \u001b[38;5;28misinstance\u001b[39m(inst, ir\u001b[38;5;241m.\u001b[39mSetItem):\n\u001b[1;32m   1388\u001b[0m         \u001b[38;5;28mself\u001b[39m\u001b[38;5;241m.\u001b[39mtypeof_setitem(inst)\n",
      "File \u001b[0;32m~/anaconda3/lib/python3.8/site-packages/numba/core/typeinfer.py:1459\u001b[0m, in \u001b[0;36mTypeInferer.typeof_assign\u001b[0;34m(self, inst)\u001b[0m\n\u001b[1;32m   1456\u001b[0m     \u001b[38;5;28mself\u001b[39m\u001b[38;5;241m.\u001b[39mconstraints\u001b[38;5;241m.\u001b[39mappend(Propagate(dst\u001b[38;5;241m=\u001b[39minst\u001b[38;5;241m.\u001b[39mtarget\u001b[38;5;241m.\u001b[39mname,\n\u001b[1;32m   1457\u001b[0m                                       src\u001b[38;5;241m=\u001b[39mvalue\u001b[38;5;241m.\u001b[39mname, loc\u001b[38;5;241m=\u001b[39minst\u001b[38;5;241m.\u001b[39mloc))\n\u001b[1;32m   1458\u001b[0m \u001b[38;5;28;01melif\u001b[39;00m \u001b[38;5;28misinstance\u001b[39m(value, (ir\u001b[38;5;241m.\u001b[39mGlobal, ir\u001b[38;5;241m.\u001b[39mFreeVar)):\n\u001b[0;32m-> 1459\u001b[0m     \u001b[38;5;28;43mself\u001b[39;49m\u001b[38;5;241;43m.\u001b[39;49m\u001b[43mtypeof_global\u001b[49m\u001b[43m(\u001b[49m\u001b[43minst\u001b[49m\u001b[43m,\u001b[49m\u001b[43m \u001b[49m\u001b[43minst\u001b[49m\u001b[38;5;241;43m.\u001b[39;49m\u001b[43mtarget\u001b[49m\u001b[43m,\u001b[49m\u001b[43m \u001b[49m\u001b[43mvalue\u001b[49m\u001b[43m)\u001b[49m\n\u001b[1;32m   1460\u001b[0m \u001b[38;5;28;01melif\u001b[39;00m \u001b[38;5;28misinstance\u001b[39m(value, ir\u001b[38;5;241m.\u001b[39mArg):\n\u001b[1;32m   1461\u001b[0m     \u001b[38;5;28mself\u001b[39m\u001b[38;5;241m.\u001b[39mtypeof_arg(inst, inst\u001b[38;5;241m.\u001b[39mtarget, value)\n",
      "File \u001b[0;32m~/anaconda3/lib/python3.8/site-packages/numba/core/typeinfer.py:1559\u001b[0m, in \u001b[0;36mTypeInferer.typeof_global\u001b[0;34m(self, inst, target, gvar)\u001b[0m\n\u001b[1;32m   1557\u001b[0m \u001b[38;5;28;01mdef\u001b[39;00m \u001b[38;5;21mtypeof_global\u001b[39m(\u001b[38;5;28mself\u001b[39m, inst, target, gvar):\n\u001b[1;32m   1558\u001b[0m     \u001b[38;5;28;01mtry\u001b[39;00m:\n\u001b[0;32m-> 1559\u001b[0m         typ \u001b[38;5;241m=\u001b[39m \u001b[38;5;28;43mself\u001b[39;49m\u001b[38;5;241;43m.\u001b[39;49m\u001b[43mresolve_value_type\u001b[49m\u001b[43m(\u001b[49m\u001b[43minst\u001b[49m\u001b[43m,\u001b[49m\u001b[43m \u001b[49m\u001b[43mgvar\u001b[49m\u001b[38;5;241;43m.\u001b[39;49m\u001b[43mvalue\u001b[49m\u001b[43m)\u001b[49m\n\u001b[1;32m   1560\u001b[0m     \u001b[38;5;28;01mexcept\u001b[39;00m TypingError \u001b[38;5;28;01mas\u001b[39;00m e:\n\u001b[1;32m   1561\u001b[0m         \u001b[38;5;28;01mif\u001b[39;00m (gvar\u001b[38;5;241m.\u001b[39mname \u001b[38;5;241m==\u001b[39m \u001b[38;5;28mself\u001b[39m\u001b[38;5;241m.\u001b[39mfunc_id\u001b[38;5;241m.\u001b[39mfunc_name\n\u001b[1;32m   1562\u001b[0m                 \u001b[38;5;129;01mand\u001b[39;00m gvar\u001b[38;5;241m.\u001b[39mname \u001b[38;5;129;01min\u001b[39;00m _temporary_dispatcher_map):\n\u001b[1;32m   1563\u001b[0m             \u001b[38;5;66;03m# Self-recursion case where the dispatcher is not (yet?) known\u001b[39;00m\n\u001b[1;32m   1564\u001b[0m             \u001b[38;5;66;03m# as a global variable\u001b[39;00m\n",
      "File \u001b[0;32m~/anaconda3/lib/python3.8/site-packages/numba/core/typeinfer.py:1480\u001b[0m, in \u001b[0;36mTypeInferer.resolve_value_type\u001b[0;34m(self, inst, val)\u001b[0m\n\u001b[1;32m   1478\u001b[0m \u001b[38;5;28;01mexcept\u001b[39;00m \u001b[38;5;167;01mValueError\u001b[39;00m \u001b[38;5;28;01mas\u001b[39;00m e:\n\u001b[1;32m   1479\u001b[0m     msg \u001b[38;5;241m=\u001b[39m \u001b[38;5;28mstr\u001b[39m(e)\n\u001b[0;32m-> 1480\u001b[0m \u001b[38;5;28;01mraise\u001b[39;00m TypingError(msg, loc\u001b[38;5;241m=\u001b[39minst\u001b[38;5;241m.\u001b[39mloc)\n",
      "\u001b[0;31mTypingError\u001b[0m: Failed in nopython mode pipeline (step: nopython frontend)\n\u001b[1mNameError: name 'runs' is not defined\u001b[0m"
     ]
    }
   ],
   "source": [
    "# Monte Carlo simulation\n",
    "# (nb.float64[:], nb.float64[:], nb.float64[:]), \n",
    "#@nb.njit([nb.float64[:], nb.float64[:], nb.float64[:](nb.float64[:], nb.float64[:], nb.float64[:])], fastmath=True, nogil=True, parallel=True)\n",
    "#@nb.njit(fastmath=True, nogil=True, parallel=True)\n",
    "#@nb.njit(fastmath=True, nogil=True)\n",
    "#@nb.vectorize([(nb.float64, nb.float64, nb.float64),(nb.float64, nb.float64, nb.float64)], fastmath=True, nogil=True, parallel=True)\n",
    "@nb.njit([(nb.float64[:], nb.float64[:], nb.float64[:]),(nb.float64[:], nb.float64[:], nb.float64[:])], fastmath=True, nogil=True, parallel=True)\n",
    "def Monte_Carlo(mse, emse, msd):\n",
    "    global runs, SystemResponse, alpha, varx, varz, varq, N, iterations\n",
    "    #mse = np.zeros(iterations)            # Mean square error\n",
    "    #emse = np.zeros(iterations)           # Excess mean square error\n",
    "    #msd = np.zeros(iterations)            # Mean square deviation\n",
    "    #for r in np.arange(runs):                     # loop for realizations\n",
    "    for r in nb.prange(runs):\n",
    "        SystemResponsen = SystemResponse          # Updates the channel response\n",
    "        W = np.zeros(N)                           # initializes W(0)\n",
    "\n",
    "        # Input driving noise generation\n",
    "        X0 = np.sqrt((1-alpha**2)*varx)*np.random.normal(0,1,size=iterations+N+1)\n",
    "        X1 = np.zeros(iterations+N+1)            # initializes vector of input samples\n",
    "        X1[0] = X0[0]\n",
    "        for k in np.arange(1,iterations+N+1):    # AR(1) model\n",
    "            X1[k] = alpha*X1[k-1] + X0[k]\n",
    "        #X0 = np.sqrt((1-alpha**2)*varx)*np.random.normal(0,1,size=iterations+N)\n",
    "        #X1 = np.zeros(iterations+N)            # initializes vector of input samples\n",
    "        #X1[0] = X0[0]\n",
    "        #for k in np.arange(1,iterations+N):    # AR(1) model\n",
    "        #    X1[k] = alpha*X1[k-1] + X0[k]\n",
    "\n",
    "        # Generation of the measurement noise sequence\n",
    "        noise = np.sqrt(varz)*np.random.randn(iterations+N)\n",
    "        \n",
    "        # Generation of initial input vector\n",
    "        X = X1[0:N]                         # generates input vector\n",
    "        X = X[::-1]                           # flips the vector around\n",
    "        \n",
    "        # Adaptive algorithm\n",
    "        for n in np.arange(iterations):\n",
    "            z = noise[n]                          # generates additive noise sample\n",
    "            #msen = mse[n]\n",
    "            #emsen = emse[n]\n",
    "            #msdn = msd[n]\n",
    "            e, W, mse[n], emse[n], msd[n] = run_iteration(X, z, SystemResponsen, W, mse[n], emse[n], msd[n])\n",
    "            #d = np.dot(X,SystemResponsen) + z\n",
    "            #d = X @ SystemResponsen + z           # evaluates desired signal\n",
    "            #y = np.dot(X,W)\n",
    "            #y = X @ W                             # evaluates adaptive filter output\n",
    "            #e = d - y                             # evaluates error signal\n",
    "            #mse[n] = mse[n] + e**2                # accumulates e²(n)\n",
    "            #emse[n] = emse[n] + (e-z)**2          # accumulates (e(n)-z(n))²\n",
    "            #V = W - SystemResponsen               # evaluates weight error vector\n",
    "            #msd[n] = msd[n] + np.dot(V,V)\n",
    "            #msd[n] = msd[n] + V @ V               # evaluates MSD(n)\n",
    "            # Updating the adaptive weights\n",
    "            #W = W + mu * e * X\n",
    "            # Update of unknown system response\n",
    "            SystemResponsen = SystemResponsen + np.sqrt(varq) * np.random.randn(N)\n",
    "            # Update of the input vector\n",
    "            X = np.concatenate((np.array([X1[n+N]]), X[:-1]))\n",
    "        \n",
    "    return mse, emse, msd  "
   ]
  },
  {
   "cell_type": "code",
   "execution_count": null,
   "id": "d643c7c3-b6cd-4e0f-9ef7-995edd6edc28",
   "metadata": {},
   "outputs": [],
   "source": [
    "@nb.njit(fastmath=True)\n",
    "def run_iteration(X, z, SystemResponsen, W, msen, emsen, msdn):\n",
    "    d = np.dot(X,SystemResponsen) + z\n",
    "    y = np.dot(X,W)\n",
    "    e = d - y\n",
    "    msen = msen + e**2\n",
    "    emsen = emsen + (e-z)**2\n",
    "    V = W - SystemResponsen               # evaluates weight error vector\n",
    "    msdn = msdn + np.dot(V,V)\n",
    "    W = W + mu * e * X\n",
    "    return e, W, msen, emsen, msdn"
   ]
  },
  {
   "cell_type": "markdown",
   "id": "b3a1b8d6-6759-4123-9906-e6e1944f70b9",
   "metadata": {},
   "source": [
    "### Statistical simulation"
   ]
  },
  {
   "cell_type": "code",
   "execution_count": null,
   "id": "50b8d56c-c3f0-4164-91f8-43bb7b7bb7f1",
   "metadata": {},
   "outputs": [],
   "source": [
    "# Simulation parameters\n",
    "N = 128                      # number of adaptive coefficients\n",
    "iterations = 50000          # number of iterations\n",
    "runs = 100                    # number of Monte Carlo realizations\n",
    "mu = 5e-4                  # step-size\n",
    "varx = 1.0                    # variance of the input signal\n",
    "varz = 1e-6                  # variance of the additive measurement noise\n",
    "alpha = 0.4                  # correlation parameter for the AR(1) input model\n",
    "               \n",
    "\n",
    "# Markov channel fluctuations (choose one)\n",
    "eta = 0.                         # degree of nonsationarity due to channel changes\n",
    "varq = (varz*(eta**2))/(N*varx)   # Markov  Channel fluctuations"
   ]
  },
  {
   "cell_type": "markdown",
   "id": "4f75afbf-9fd2-42a8-8229-92016138e484",
   "metadata": {},
   "source": [
    "### Unknown system impulse response"
   ]
  },
  {
   "cell_type": "code",
   "execution_count": null,
   "id": "ef8fc9db-9bc9-49a2-8cfb-37e97ed504c5",
   "metadata": {},
   "outputs": [],
   "source": [
    "#SystemResponse = mf.raiscos(N,0.,5,0.8)\n",
    "SystemResponse = np.array(np.random.randn(N)).astype(np.float64)\n",
    "\n",
    "# Normalization of the system response\n",
    "SystemResponse = SystemResponse/np.sqrt(SystemResponse.dot(SystemResponse))\n",
    "\n",
    "#np.save('data/response.npy',SystemResponse) # do it once for all simulations\n",
    "#SystemResponse = np.load('data/responseraiscos.npy') # use this once the response is saved\n",
    "#SystemResponse = np.load('data/responsedecay.npy') # use this once the response is saved"
   ]
  },
  {
   "cell_type": "markdown",
   "id": "2e32b53b-ed7f-4f2b-8bd4-49803920939d",
   "metadata": {},
   "source": [
    "### To plot the system response using stem"
   ]
  },
  {
   "cell_type": "code",
   "execution_count": null,
   "id": "9d1b0c74-e562-4374-ade7-c4e341969e0f",
   "metadata": {},
   "outputs": [],
   "source": [
    "plt.figure()\n",
    "t = np.arange(N)\n",
    "markerline, stemlines, baseline = plt.stem(t,SystemResponse)\n",
    "plt.setp(markerline, 'markerfacecolor', 'b')\n",
    "plt.setp(baseline, 'color', 'k', 'linewidth', 2),plt.grid()\n",
    "plt.ylabel('Amplitude of $H(0)$', fontsize=14)\n",
    "plt.xlabel('iterations', fontsize=14)\n",
    "plt.xticks(fontsize=14)\n",
    "plt.yticks(fontsize=14)\n",
    "plt.show()"
   ]
  },
  {
   "cell_type": "markdown",
   "id": "4ac2d056-6559-4643-b4c1-95fbd02c697d",
   "metadata": {
    "tags": []
   },
   "source": [
    "### Initialization of variables"
   ]
  },
  {
   "cell_type": "code",
   "execution_count": null,
   "id": "9f4fe5f2-5d63-4707-8524-6a06f130ebd9",
   "metadata": {},
   "outputs": [],
   "source": [
    "#X0 = np.sqrt((1-alpha**2)*varx)*np.random.normal(0,1,size=iterations+N-1)\n",
    "# Plotting the histogram of X0 if verification is necessary\n",
    "#plt.hist(X0, bins=30, histtype='bar')\n",
    "\n",
    "# Theoretical input autocorrelation matrix \n",
    "\n",
    "liner = np.array(varx*(alpha**(np.arange(N))))\n",
    "# Input autocorrelation matrix\n",
    "R = linalg.toeplitz(liner)\n",
    "\n",
    "# Calculation of eigenvectors and eingenvalues\n",
    "#   Each element of la is one eigenvalue (ordered by increasing magnitude)\n",
    "#   Each column of S is an eigenvector in the same order\n",
    "la, S = linalg.eigh(R)\n",
    "#print(\"eigenvalues:\",np.abs(la), '\\n')\n",
    "#print(\"eigenvectors: \", \"\\n\", S, '\\n')\n",
    "spread = np.abs(np.max(la))/np.abs(np.min(la))\n",
    "print('eigenvalue spread: ', spread)\n",
    "\n",
    "# Input eigenvalue matrix\n",
    "Lambda0 = np.diag(np.abs(la))      \n",
    "#print(\"Lambda0 = \", '\\n', Lambda0, '\\n')"
   ]
  },
  {
   "cell_type": "markdown",
   "id": "f360754e-e1de-40d4-a601-be295b82fd5d",
   "metadata": {},
   "source": [
    "### Monte Carlo (MC) Simulation"
   ]
  },
  {
   "cell_type": "code",
   "execution_count": null,
   "id": "eef43120-a805-4ca4-b328-85f80deb4f40",
   "metadata": {},
   "outputs": [],
   "source": [
    "# Vector initializations\n",
    "mse = np.zeros(iterations, dtype = np.float64)            # Mean square error\n",
    "emse = np.zeros(iterations, dtype = np.float64)           # Excess mean square error\n",
    "msd = np.zeros(iterations, dtype = np.float64)            # Mean square deviation\n",
    "msdtheo = np.zeros(iterations)        # Theoretical MSD(n)\n",
    "emsetheo = np.zeros(iterations)        # Theoretical EMSE(n)\n",
    "K0 = np.outer(SystemResponse,SystemResponse)  # Matrix K(0)\n",
    "\n",
    "# Call function classical_model\n",
    "\n",
    "msdtheo, emsetheo = classical_model(K0)\n",
    "msdtheo = 10 * np.log10(msdtheo)\n",
    "emsetheo = 10 * np.log10(emsetheo)\n",
    "\n",
    "# Call function Monte Carlo realizations\n",
    "\n",
    "#mse, emse, msd = Monte_Carlo(runs, SystemResponse, alpha, varx, varz, varq, N, iterations)\n",
    "mse, emse, msd = Monte_Carlo(mse, emse, msd)"
   ]
  },
  {
   "cell_type": "markdown",
   "id": "c399113f-c4b1-4226-8e74-0c45fac51923",
   "metadata": {},
   "source": [
    "### Averaging"
   ]
  },
  {
   "cell_type": "code",
   "execution_count": null,
   "id": "3e5e9428-6472-4682-b4a6-f8fffe566082",
   "metadata": {},
   "outputs": [],
   "source": [
    "mse = mse/runs                                # evaluates MSE\n",
    "emse = emse/runs                              # evaluates EMSE\n",
    "msd = msd/runs                                # evaluates MSD\n",
    "msedb = 10 * np.log10(mse)                    # MSE in dB\n",
    "emsedb = 10 * np.log10(emse)                  # EMSE in dB\n",
    "msddb = 10 * np.log10(msd)                    # MSD in dB"
   ]
  },
  {
   "cell_type": "markdown",
   "id": "e3b7777c-dafe-4f41-9119-39f03fe21fd6",
   "metadata": {},
   "source": [
    "### Plotting the results"
   ]
  },
  {
   "cell_type": "code",
   "execution_count": null,
   "id": "26dd0b5e-1696-443e-98be-de49a973c2f3",
   "metadata": {},
   "outputs": [],
   "source": [
    "plt.figure()\n",
    "t = np.arange(iterations)\n",
    "plt.plot(t,emsedb,label='simulations'), plt.grid()    \n",
    "plt.plot(t,emsetheo,label='theory')  \n",
    "#plt.plot(t,10*np.log10(Jex),label='theory model'),plt.grid()\n",
    "plt.legend()                           # adds legend with labels defined above\n",
    "plt.title('Excess Mean Squared Error', fontsize=18)\n",
    "plt.xlabel('iterations', fontsize=14)\n",
    "plt.ylabel('EMSE (dB)', fontsize=14)\n",
    "plt.xticks(fontsize=14)\n",
    "plt.yticks(fontsize=14)\n",
    "ax = plt.gca()                    # grabs current axes and names them ax\n",
    "# Setting axes properties\n",
    "ax.ticklabel_format(style='sci', axis='x', scilimits=(0,0)) # scientific number style\n",
    "ax.xaxis.offsetText.set_fontsize(14)                        # offset text font size\n",
    "#plt.savefig('testfig.pdf',bbox_inches='tight')\n",
    "#plt.show()\n",
    "\n",
    "plt.figure()\n",
    "plt.plot(t,msddb,label='simulations'), plt.grid()    \n",
    "plt.plot(t,msdtheo,label='theory')  \n",
    "#plt.plot(t,10*np.log10(Jex),label='theory model'),plt.grid()\n",
    "plt.legend()                           # adds legend with labels defined above\n",
    "plt.title('Mean Square Deviation', fontsize=18)\n",
    "plt.xlabel('iterations', fontsize=14)\n",
    "plt.ylabel('MSD (dB)', fontsize=14)\n",
    "plt.xticks(fontsize=14)\n",
    "plt.yticks(fontsize=14)\n",
    "ax = plt.gca()                    # grabs current axes and names them ax\n",
    "# Setting axes properties\n",
    "ax.ticklabel_format(style='sci', axis='x', scilimits=(0,0)) # scientific number style\n",
    "ax.xaxis.offsetText.set_fontsize(14)                        # offset text font size\n",
    "#plt.savefig('testfig.pdf',bbox_inches='tight')\n",
    "plt.show()\n",
    "\n",
    "end_time = time.time()\n",
    "print('Duration: ', (end_time - t0)/60,'min')\n",
    "print('Duration: ', (end_time - t0),'s')"
   ]
  },
  {
   "cell_type": "code",
   "execution_count": null,
   "id": "32d74569-f61d-4b81-a443-6d78ec58da13",
   "metadata": {},
   "outputs": [],
   "source": [
    "a = np.array([[1, 0], [0, 1]])\n",
    "b = np.array([[4, 1], [2, 2]])"
   ]
  },
  {
   "cell_type": "code",
   "execution_count": null,
   "id": "950da8b6-60ee-452c-a4de-b005890ed7df",
   "metadata": {},
   "outputs": [],
   "source": [
    "a.shape"
   ]
  },
  {
   "cell_type": "code",
   "execution_count": null,
   "id": "0e181be0-09e5-44fd-bc30-cceffff0ed8d",
   "metadata": {},
   "outputs": [],
   "source": [
    "a @ b"
   ]
  },
  {
   "cell_type": "code",
   "execution_count": null,
   "id": "f66ff43d-ef76-4a5e-9905-80d4ce8b1cf4",
   "metadata": {},
   "outputs": [],
   "source": [
    "np.dot(a,b)"
   ]
  },
  {
   "cell_type": "code",
   "execution_count": null,
   "id": "d1111a73-11d3-4bef-bda4-5690f06fc384",
   "metadata": {},
   "outputs": [],
   "source": []
  }
 ],
 "metadata": {
  "kernelspec": {
   "display_name": "Python 3 (ipykernel)",
   "language": "python",
   "name": "python3"
  },
  "language_info": {
   "codemirror_mode": {
    "name": "ipython",
    "version": 3
   },
   "file_extension": ".py",
   "mimetype": "text/x-python",
   "name": "python",
   "nbconvert_exporter": "python",
   "pygments_lexer": "ipython3",
   "version": "3.8.11"
  }
 },
 "nbformat": 4,
 "nbformat_minor": 5
}
